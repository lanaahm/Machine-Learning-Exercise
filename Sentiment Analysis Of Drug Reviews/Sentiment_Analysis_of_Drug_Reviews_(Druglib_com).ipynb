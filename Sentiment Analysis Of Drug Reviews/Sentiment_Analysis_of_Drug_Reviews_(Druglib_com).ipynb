{
  "metadata": {
    "kernelspec": {
      "language": "python",
      "display_name": "Python 3",
      "name": "python3"
    },
    "language_info": {
      "name": "python",
      "version": "3.7.12",
      "mimetype": "text/x-python",
      "codemirror_mode": {
        "name": "ipython",
        "version": 3
      },
      "pygments_lexer": "ipython3",
      "nbconvert_exporter": "python",
      "file_extension": ".py"
    },
    "colab": {
      "name": "Sentiment_Analysis_of_Drug_Reviews_(Druglib_com).ipynb",
      "provenance": [],
      "toc_visible": true
    },
    "accelerator": "GPU"
  },
  "nbformat_minor": 0,
  "nbformat": 4,
  "cells": [
    {
      "cell_type": "markdown",
      "source": [
        "# Drug Classfication Based on Sentiment Analysis Review (Druglib.com)\n",
        "## Case Study:\n",
        "\n",
        "The number of medicinal products circulating in pharmacies causes consumers to compare the product with other products. The machine learning model that is built is expected to be able to provide product classfication based on the types of complaints experienced by consumers or the products they want to find. Drug classfication are obtained from a collection of reviews related to preferences and conditions, effectiveness, reviews, and product ratings from review data on Druglib.com. The drug review will then be analyzed further using sentiment analysis with an algorithm model from long short-term memory (LSTM).\n",
        "\n",
        "## Data Set Information:\n",
        "\n",
        "The dataset provides patient reviews on specific drugs along with related conditions. Furthermore, reviews are grouped into reports on the three aspects benefits, side effects and overall comment. Additionally, ratings are available concerning overall satisfaction as well as a 5 step side effect rating and a 5 step effectiveness rating. The data was obtained by crawling online pharmaceutical review sites. The intention was to study\n",
        "\n",
        "1. sentiment analysis of drug experience over multiple facets, i.e. sentiments learned on specific aspects such as effectiveness and side effects,\n",
        "2. the transferability of models among domains, i.e. conditions, and\n",
        "3. the transferability of models among different data sources (see 'Drug Review Dataset (Drugs.com)').\n",
        "\n",
        "The data is split into a train (75%) a test (25%) partition (see publication) and stored in two .tsv (tab-separated-values) files, respectively.\n",
        "\n",
        "## Informasi Atribut:\n",
        "\n",
        "1. urlNama Obat (kategoris): nama obat\n",
        "2. kondisi (kategoris): nama kondisi\n",
        "3. manfaatReview (teks): pasien tentang manfaat\n",
        "4. Efek sampingReview (teks): pasien tentang efek samping\n",
        "5. komentarReview (teks): pasien secara keseluruhan komentar\n",
        "6. peringkat (numerik): peringkat pasien bintang 10\n",
        "7. Efek samping (kategoris): peringkat efek samping 5 langkah\n",
        "8. efektivitas (kategoris): peringkat efektivitas 5 langkah\n",
        "\n",
        "Source dataset: [Drug Review Dataset (Druglib.com)](https://archive.ics.uci.edu/ml/datasets/Drug+Review+Dataset+%28Druglib.com%29)"
      ],
      "metadata": {
        "id": "rOeCDoPyy8La"
      }
    },
    {
      "cell_type": "markdown",
      "source": [
        "#### Import Library"
      ],
      "metadata": {
        "id": "XDDhxLJu2HAs"
      }
    },
    {
      "cell_type": "code",
      "source": [
        "import tensorflow as tf \n",
        "print(tf.__version__)"
      ],
      "metadata": {
        "execution": {
          "iopub.status.busy": "2022-05-13T21:51:43.921417Z",
          "iopub.execute_input": "2022-05-13T21:51:43.921891Z",
          "iopub.status.idle": "2022-05-13T21:51:46.854789Z",
          "shell.execute_reply.started": "2022-05-13T21:51:43.921759Z",
          "shell.execute_reply": "2022-05-13T21:51:46.854030Z"
        },
        "trusted": true,
        "colab": {
          "base_uri": "https://localhost:8080/"
        },
        "id": "lqQ2vP6UbuC7",
        "outputId": "5ad99df8-093f-4395-d1d4-9efa19263c5d"
      },
      "execution_count": 1,
      "outputs": [
        {
          "output_type": "stream",
          "name": "stdout",
          "text": [
            "2.8.0\n"
          ]
        }
      ]
    },
    {
      "cell_type": "code",
      "source": [
        "device_name = tf.test.gpu_device_name()\n",
        "if \"GPU\" not in device_name:\n",
        "    print(\"GPU device not found\")\n",
        "print('Found GPU at: {}'.format(device_name))"
      ],
      "metadata": {
        "execution": {
          "iopub.status.busy": "2022-05-13T21:51:46.856557Z",
          "iopub.execute_input": "2022-05-13T21:51:46.856824Z",
          "iopub.status.idle": "2022-05-13T21:51:47.788405Z",
          "shell.execute_reply.started": "2022-05-13T21:51:46.856779Z",
          "shell.execute_reply": "2022-05-13T21:51:47.786877Z"
        },
        "trusted": true,
        "colab": {
          "base_uri": "https://localhost:8080/"
        },
        "id": "Nqr-ycCzbuC8",
        "outputId": "33ae15d5-3421-403e-8d25-3d68bd8c58fc"
      },
      "execution_count": 2,
      "outputs": [
        {
          "output_type": "stream",
          "name": "stdout",
          "text": [
            "Found GPU at: /device:GPU:0\n"
          ]
        }
      ]
    },
    {
      "cell_type": "code",
      "source": [
        "import os\n",
        "import zipfile\n",
        "import wordcloud as ws\n",
        "import pandas as pd\n",
        "import numpy as np\n",
        "import matplotlib.pyplot as plt\n",
        "%matplotlib inline\n",
        "\n",
        "from tensorflow import keras\n",
        "from sklearn import preprocessing\n",
        "from textblob import Word\n",
        "from sklearn.model_selection import train_test_split\n",
        "from keras.preprocessing.text import Tokenizer\n",
        "from keras.preprocessing.sequence import pad_sequences\n",
        "from keras.models import Sequential\n",
        "from keras.layers import Dense\n",
        "from keras.wrappers.scikit_learn import KerasClassifier\n",
        "from sklearn.model_selection import GridSearchCV\n",
        "from keras.callbacks import EarlyStopping"
      ],
      "metadata": {
        "id": "qR7-uyh9waEc",
        "execution": {
          "iopub.status.busy": "2022-05-13T21:51:47.790123Z",
          "iopub.execute_input": "2022-05-13T21:51:47.790656Z",
          "iopub.status.idle": "2022-05-13T21:51:49.075264Z",
          "shell.execute_reply.started": "2022-05-13T21:51:47.790611Z",
          "shell.execute_reply": "2022-05-13T21:51:49.074497Z"
        },
        "trusted": true
      },
      "execution_count": 281,
      "outputs": []
    },
    {
      "cell_type": "code",
      "source": [
        "import nltk\n",
        "nltk.download('stopwords')\n",
        "nltk.download('wordnet')\n",
        "\n",
        "from nltk.corpus import stopwords"
      ],
      "metadata": {
        "id": "SWvyKLTbitQF",
        "outputId": "9e47d0b3-8686-4ef9-f752-e4ee4d982ba4",
        "execution": {
          "iopub.status.busy": "2022-05-13T21:51:49.077359Z",
          "iopub.execute_input": "2022-05-13T21:51:49.077854Z",
          "iopub.status.idle": "2022-05-13T21:51:49.208234Z",
          "shell.execute_reply.started": "2022-05-13T21:51:49.077818Z",
          "shell.execute_reply": "2022-05-13T21:51:49.207513Z"
        },
        "trusted": true,
        "colab": {
          "base_uri": "https://localhost:8080/"
        }
      },
      "execution_count": 17,
      "outputs": [
        {
          "output_type": "stream",
          "name": "stdout",
          "text": [
            "[nltk_data] Downloading package stopwords to /root/nltk_data...\n",
            "[nltk_data]   Package stopwords is already up-to-date!\n",
            "[nltk_data] Downloading package wordnet to /root/nltk_data...\n",
            "[nltk_data]   Unzipping corpora/wordnet.zip.\n"
          ]
        }
      ]
    },
    {
      "cell_type": "markdown",
      "source": [
        "#### Import Dataset"
      ],
      "metadata": {
        "id": "aQrkZyE_8hG_"
      }
    },
    {
      "cell_type": "code",
      "source": [
        "!wget --no-check-certificate \\\n",
        "  https://archive.ics.uci.edu/ml/machine-learning-databases/00461/drugLib_raw.zip \\\n",
        "  -O /tmp/drugLib_raw.zip"
      ],
      "metadata": {
        "id": "PgOkI8gI8lz2",
        "outputId": "3cf51436-5394-49ee-cbbe-7da9ec88105b",
        "execution": {
          "iopub.status.busy": "2022-05-13T21:51:49.212113Z",
          "iopub.execute_input": "2022-05-13T21:51:49.214037Z",
          "iopub.status.idle": "2022-05-13T21:51:50.401501Z",
          "shell.execute_reply.started": "2022-05-13T21:51:49.213998Z",
          "shell.execute_reply": "2022-05-13T21:51:50.398732Z"
        },
        "trusted": true,
        "colab": {
          "base_uri": "https://localhost:8080/"
        }
      },
      "execution_count": 5,
      "outputs": [
        {
          "output_type": "stream",
          "name": "stdout",
          "text": [
            "--2022-05-13 22:00:37--  https://archive.ics.uci.edu/ml/machine-learning-databases/00461/drugLib_raw.zip\n",
            "Resolving archive.ics.uci.edu (archive.ics.uci.edu)... 128.195.10.252\n",
            "Connecting to archive.ics.uci.edu (archive.ics.uci.edu)|128.195.10.252|:443... connected.\n",
            "HTTP request sent, awaiting response... 200 OK\n",
            "Length: 1133354 (1.1M) [application/x-httpd-php]\n",
            "Saving to: ‘/tmp/drugLib_raw.zip’\n",
            "\n",
            "/tmp/drugLib_raw.zi 100%[===================>]   1.08M  1.06MB/s    in 1.0s    \n",
            "\n",
            "2022-05-13 22:00:39 (1.06 MB/s) - ‘/tmp/drugLib_raw.zip’ saved [1133354/1133354]\n",
            "\n"
          ]
        }
      ]
    },
    {
      "cell_type": "code",
      "source": [
        "local_zip = '/tmp/drugLib_raw.zip'\n",
        "zip_ref = zipfile.ZipFile(local_zip, 'r')\n",
        "zip_ref.extractall('/tmp/drugLib_raw')\n",
        "zip_ref.close()\n",
        "base_dir = '/tmp/drugLib_raw/'"
      ],
      "metadata": {
        "id": "CJP5Y_9F-ytm",
        "execution": {
          "iopub.status.busy": "2022-05-13T21:51:50.403942Z",
          "iopub.execute_input": "2022-05-13T21:51:50.404239Z",
          "iopub.status.idle": "2022-05-13T21:51:51.192540Z",
          "shell.execute_reply.started": "2022-05-13T21:51:50.404197Z",
          "shell.execute_reply": "2022-05-13T21:51:51.190219Z"
        },
        "trusted": true
      },
      "execution_count": 6,
      "outputs": []
    },
    {
      "cell_type": "markdown",
      "source": [
        "#### Import pre-trained word embeddings"
      ],
      "metadata": {
        "id": "rLt10U-hbuC_"
      }
    },
    {
      "cell_type": "code",
      "source": [
        "!wget --no-check-certificate \\\n",
        "  http://nlp.stanford.edu/data/glove.6B.zip \\\n",
        "  -O /tmp/glove.6B.zip"
      ],
      "metadata": {
        "execution": {
          "iopub.status.busy": "2022-05-13T21:51:51.201678Z",
          "iopub.execute_input": "2022-05-13T21:51:51.204599Z",
          "iopub.status.idle": "2022-05-13T21:54:32.639520Z",
          "shell.execute_reply.started": "2022-05-13T21:51:51.204322Z",
          "shell.execute_reply": "2022-05-13T21:54:32.638549Z"
        },
        "trusted": true,
        "colab": {
          "base_uri": "https://localhost:8080/"
        },
        "id": "P0VAuYzTbuDA",
        "outputId": "a82206e2-0f7a-4b32-fe2a-9065db6d298f"
      },
      "execution_count": 7,
      "outputs": [
        {
          "output_type": "stream",
          "name": "stdout",
          "text": [
            "--2022-05-13 22:00:47--  http://nlp.stanford.edu/data/glove.6B.zip\n",
            "Resolving nlp.stanford.edu (nlp.stanford.edu)... 171.64.67.140\n",
            "Connecting to nlp.stanford.edu (nlp.stanford.edu)|171.64.67.140|:80... connected.\n",
            "HTTP request sent, awaiting response... 302 Found\n",
            "Location: https://nlp.stanford.edu/data/glove.6B.zip [following]\n",
            "--2022-05-13 22:00:47--  https://nlp.stanford.edu/data/glove.6B.zip\n",
            "Connecting to nlp.stanford.edu (nlp.stanford.edu)|171.64.67.140|:443... connected.\n",
            "HTTP request sent, awaiting response... 301 Moved Permanently\n",
            "Location: http://downloads.cs.stanford.edu/nlp/data/glove.6B.zip [following]\n",
            "--2022-05-13 22:00:48--  http://downloads.cs.stanford.edu/nlp/data/glove.6B.zip\n",
            "Resolving downloads.cs.stanford.edu (downloads.cs.stanford.edu)... 171.64.64.22\n",
            "Connecting to downloads.cs.stanford.edu (downloads.cs.stanford.edu)|171.64.64.22|:80... connected.\n",
            "HTTP request sent, awaiting response... 200 OK\n",
            "Length: 862182613 (822M) [application/zip]\n",
            "Saving to: ‘/tmp/glove.6B.zip’\n",
            "\n",
            "/tmp/glove.6B.zip   100%[===================>] 822.24M  3.45MB/s    in 2m 48s  \n",
            "\n",
            "2022-05-13 22:03:36 (4.89 MB/s) - ‘/tmp/glove.6B.zip’ saved [862182613/862182613]\n",
            "\n"
          ]
        }
      ]
    },
    {
      "cell_type": "code",
      "source": [
        "local_zip = '/tmp/glove.6B.zip'\n",
        "zip_ref = zipfile.ZipFile(local_zip, 'r')\n",
        "zip_ref.extractall('/tmp/glove')\n",
        "zip_ref.close()\n",
        "pretrained_dir = '/tmp/glove/'"
      ],
      "metadata": {
        "execution": {
          "iopub.status.busy": "2022-05-13T21:54:32.644466Z",
          "iopub.execute_input": "2022-05-13T21:54:32.644737Z",
          "iopub.status.idle": "2022-05-13T21:55:06.226368Z",
          "shell.execute_reply.started": "2022-05-13T21:54:32.644698Z",
          "shell.execute_reply": "2022-05-13T21:55:06.225619Z"
        },
        "trusted": true,
        "id": "lAaIBzLjbuDA"
      },
      "execution_count": 8,
      "outputs": []
    },
    {
      "cell_type": "markdown",
      "source": [
        "\n",
        "#### Exploring Data"
      ],
      "metadata": {
        "id": "cKVx6J9eUkkF"
      }
    },
    {
      "cell_type": "markdown",
      "source": [
        "##### Convert Dataset into pandas"
      ],
      "metadata": {
        "id": "xNVSJpOR_ppm"
      }
    },
    {
      "cell_type": "code",
      "source": [
        "# Import dataset train and test to pandas\n",
        "df_train = pd.read_csv(os.path.join(base_dir, 'drugLibTrain_raw.tsv'), sep='\\t')\n",
        "df_test = pd.read_csv(os.path.join(base_dir, 'drugLibTest_raw.tsv'), sep='\\t')\n",
        "\n",
        "# merge dataset train and test\n",
        "df_all = pd.concat([df_train.iloc[:, 1:], df_test.iloc[:, 1:]], sort=True).reset_index(drop=True)\n",
        "\n",
        "display(df_all.head())\n",
        "print('Dataset Shape : {}'.format(df_all.shape))\n",
        "print('Dataset columns : {}'.format(df_all.columns.values))"
      ],
      "metadata": {
        "id": "lPs9TEf6AX2E",
        "outputId": "86f02767-b004-49df-b6d4-58b921622b0c",
        "execution": {
          "iopub.status.busy": "2022-05-13T21:55:06.227386Z",
          "iopub.execute_input": "2022-05-13T21:55:06.229324Z",
          "iopub.status.idle": "2022-05-13T21:55:08.086933Z",
          "shell.execute_reply.started": "2022-05-13T21:55:06.229286Z",
          "shell.execute_reply": "2022-05-13T21:55:08.086257Z"
        },
        "trusted": true,
        "colab": {
          "base_uri": "https://localhost:8080/",
          "height": 424
        }
      },
      "execution_count": 9,
      "outputs": [
        {
          "output_type": "display_data",
          "data": {
            "text/plain": [
              "                                      benefitsReview  \\\n",
              "0  slowed the progression of left ventricular dys...   \n",
              "1  Although this type of birth control has more c...   \n",
              "2  I was used to having cramps so badly that they...   \n",
              "3  The acid reflux went away for a few months aft...   \n",
              "4  I think that the Lyrica was starting to help w...   \n",
              "\n",
              "                                      commentsReview  \\\n",
              "0  monitor blood pressure , weight and asses for ...   \n",
              "1  I Hate This Birth Control, I Would Not Suggest...   \n",
              "2  I took 2 pills at the onset of my menstrual cr...   \n",
              "3  I was given Prilosec prescription at a dose of...   \n",
              "4                                          See above   \n",
              "\n",
              "                                condition         effectiveness  rating  \\\n",
              "0  management of congestive heart failure      Highly Effective       4   \n",
              "1                        birth prevention      Highly Effective       1   \n",
              "2                        menstrual cramps      Highly Effective      10   \n",
              "3                             acid reflux  Marginally Effective       3   \n",
              "4                            fibromyalgia  Marginally Effective       2   \n",
              "\n",
              "           sideEffects                                  sideEffectsReview  \\\n",
              "0    Mild Side Effects  cough, hypotension , proteinuria, impotence , ...   \n",
              "1  Severe Side Effects  Heavy Cycle, Cramps, Hot Flashes, Fatigue, Lon...   \n",
              "2      No Side Effects         Heavier bleeding and clotting than normal.   \n",
              "3    Mild Side Effects  Constipation, dry mouth and some mild dizzines...   \n",
              "4  Severe Side Effects  I felt extremely drugged and dopey.  Could not...   \n",
              "\n",
              "        urlDrugName  \n",
              "0         enalapril  \n",
              "1  ortho-tri-cyclen  \n",
              "2           ponstel  \n",
              "3          prilosec  \n",
              "4            lyrica  "
            ],
            "text/html": [
              "\n",
              "  <div id=\"df-1fc8f208-9191-4865-88d0-ff70040de7eb\">\n",
              "    <div class=\"colab-df-container\">\n",
              "      <div>\n",
              "<style scoped>\n",
              "    .dataframe tbody tr th:only-of-type {\n",
              "        vertical-align: middle;\n",
              "    }\n",
              "\n",
              "    .dataframe tbody tr th {\n",
              "        vertical-align: top;\n",
              "    }\n",
              "\n",
              "    .dataframe thead th {\n",
              "        text-align: right;\n",
              "    }\n",
              "</style>\n",
              "<table border=\"1\" class=\"dataframe\">\n",
              "  <thead>\n",
              "    <tr style=\"text-align: right;\">\n",
              "      <th></th>\n",
              "      <th>benefitsReview</th>\n",
              "      <th>commentsReview</th>\n",
              "      <th>condition</th>\n",
              "      <th>effectiveness</th>\n",
              "      <th>rating</th>\n",
              "      <th>sideEffects</th>\n",
              "      <th>sideEffectsReview</th>\n",
              "      <th>urlDrugName</th>\n",
              "    </tr>\n",
              "  </thead>\n",
              "  <tbody>\n",
              "    <tr>\n",
              "      <th>0</th>\n",
              "      <td>slowed the progression of left ventricular dys...</td>\n",
              "      <td>monitor blood pressure , weight and asses for ...</td>\n",
              "      <td>management of congestive heart failure</td>\n",
              "      <td>Highly Effective</td>\n",
              "      <td>4</td>\n",
              "      <td>Mild Side Effects</td>\n",
              "      <td>cough, hypotension , proteinuria, impotence , ...</td>\n",
              "      <td>enalapril</td>\n",
              "    </tr>\n",
              "    <tr>\n",
              "      <th>1</th>\n",
              "      <td>Although this type of birth control has more c...</td>\n",
              "      <td>I Hate This Birth Control, I Would Not Suggest...</td>\n",
              "      <td>birth prevention</td>\n",
              "      <td>Highly Effective</td>\n",
              "      <td>1</td>\n",
              "      <td>Severe Side Effects</td>\n",
              "      <td>Heavy Cycle, Cramps, Hot Flashes, Fatigue, Lon...</td>\n",
              "      <td>ortho-tri-cyclen</td>\n",
              "    </tr>\n",
              "    <tr>\n",
              "      <th>2</th>\n",
              "      <td>I was used to having cramps so badly that they...</td>\n",
              "      <td>I took 2 pills at the onset of my menstrual cr...</td>\n",
              "      <td>menstrual cramps</td>\n",
              "      <td>Highly Effective</td>\n",
              "      <td>10</td>\n",
              "      <td>No Side Effects</td>\n",
              "      <td>Heavier bleeding and clotting than normal.</td>\n",
              "      <td>ponstel</td>\n",
              "    </tr>\n",
              "    <tr>\n",
              "      <th>3</th>\n",
              "      <td>The acid reflux went away for a few months aft...</td>\n",
              "      <td>I was given Prilosec prescription at a dose of...</td>\n",
              "      <td>acid reflux</td>\n",
              "      <td>Marginally Effective</td>\n",
              "      <td>3</td>\n",
              "      <td>Mild Side Effects</td>\n",
              "      <td>Constipation, dry mouth and some mild dizzines...</td>\n",
              "      <td>prilosec</td>\n",
              "    </tr>\n",
              "    <tr>\n",
              "      <th>4</th>\n",
              "      <td>I think that the Lyrica was starting to help w...</td>\n",
              "      <td>See above</td>\n",
              "      <td>fibromyalgia</td>\n",
              "      <td>Marginally Effective</td>\n",
              "      <td>2</td>\n",
              "      <td>Severe Side Effects</td>\n",
              "      <td>I felt extremely drugged and dopey.  Could not...</td>\n",
              "      <td>lyrica</td>\n",
              "    </tr>\n",
              "  </tbody>\n",
              "</table>\n",
              "</div>\n",
              "      <button class=\"colab-df-convert\" onclick=\"convertToInteractive('df-1fc8f208-9191-4865-88d0-ff70040de7eb')\"\n",
              "              title=\"Convert this dataframe to an interactive table.\"\n",
              "              style=\"display:none;\">\n",
              "        \n",
              "  <svg xmlns=\"http://www.w3.org/2000/svg\" height=\"24px\"viewBox=\"0 0 24 24\"\n",
              "       width=\"24px\">\n",
              "    <path d=\"M0 0h24v24H0V0z\" fill=\"none\"/>\n",
              "    <path d=\"M18.56 5.44l.94 2.06.94-2.06 2.06-.94-2.06-.94-.94-2.06-.94 2.06-2.06.94zm-11 1L8.5 8.5l.94-2.06 2.06-.94-2.06-.94L8.5 2.5l-.94 2.06-2.06.94zm10 10l.94 2.06.94-2.06 2.06-.94-2.06-.94-.94-2.06-.94 2.06-2.06.94z\"/><path d=\"M17.41 7.96l-1.37-1.37c-.4-.4-.92-.59-1.43-.59-.52 0-1.04.2-1.43.59L10.3 9.45l-7.72 7.72c-.78.78-.78 2.05 0 2.83L4 21.41c.39.39.9.59 1.41.59.51 0 1.02-.2 1.41-.59l7.78-7.78 2.81-2.81c.8-.78.8-2.07 0-2.86zM5.41 20L4 18.59l7.72-7.72 1.47 1.35L5.41 20z\"/>\n",
              "  </svg>\n",
              "      </button>\n",
              "      \n",
              "  <style>\n",
              "    .colab-df-container {\n",
              "      display:flex;\n",
              "      flex-wrap:wrap;\n",
              "      gap: 12px;\n",
              "    }\n",
              "\n",
              "    .colab-df-convert {\n",
              "      background-color: #E8F0FE;\n",
              "      border: none;\n",
              "      border-radius: 50%;\n",
              "      cursor: pointer;\n",
              "      display: none;\n",
              "      fill: #1967D2;\n",
              "      height: 32px;\n",
              "      padding: 0 0 0 0;\n",
              "      width: 32px;\n",
              "    }\n",
              "\n",
              "    .colab-df-convert:hover {\n",
              "      background-color: #E2EBFA;\n",
              "      box-shadow: 0px 1px 2px rgba(60, 64, 67, 0.3), 0px 1px 3px 1px rgba(60, 64, 67, 0.15);\n",
              "      fill: #174EA6;\n",
              "    }\n",
              "\n",
              "    [theme=dark] .colab-df-convert {\n",
              "      background-color: #3B4455;\n",
              "      fill: #D2E3FC;\n",
              "    }\n",
              "\n",
              "    [theme=dark] .colab-df-convert:hover {\n",
              "      background-color: #434B5C;\n",
              "      box-shadow: 0px 1px 3px 1px rgba(0, 0, 0, 0.15);\n",
              "      filter: drop-shadow(0px 1px 2px rgba(0, 0, 0, 0.3));\n",
              "      fill: #FFFFFF;\n",
              "    }\n",
              "  </style>\n",
              "\n",
              "      <script>\n",
              "        const buttonEl =\n",
              "          document.querySelector('#df-1fc8f208-9191-4865-88d0-ff70040de7eb button.colab-df-convert');\n",
              "        buttonEl.style.display =\n",
              "          google.colab.kernel.accessAllowed ? 'block' : 'none';\n",
              "\n",
              "        async function convertToInteractive(key) {\n",
              "          const element = document.querySelector('#df-1fc8f208-9191-4865-88d0-ff70040de7eb');\n",
              "          const dataTable =\n",
              "            await google.colab.kernel.invokeFunction('convertToInteractive',\n",
              "                                                     [key], {});\n",
              "          if (!dataTable) return;\n",
              "\n",
              "          const docLinkHtml = 'Like what you see? Visit the ' +\n",
              "            '<a target=\"_blank\" href=https://colab.research.google.com/notebooks/data_table.ipynb>data table notebook</a>'\n",
              "            + ' to learn more about interactive tables.';\n",
              "          element.innerHTML = '';\n",
              "          dataTable['output_type'] = 'display_data';\n",
              "          await google.colab.output.renderOutput(dataTable, element);\n",
              "          const docLink = document.createElement('div');\n",
              "          docLink.innerHTML = docLinkHtml;\n",
              "          element.appendChild(docLink);\n",
              "        }\n",
              "      </script>\n",
              "    </div>\n",
              "  </div>\n",
              "  "
            ]
          },
          "metadata": {}
        },
        {
          "output_type": "stream",
          "name": "stdout",
          "text": [
            "Dataset Shape : (4143, 8)\n",
            "Dataset columns : ['benefitsReview' 'commentsReview' 'condition' 'effectiveness' 'rating'\n",
            " 'sideEffects' 'sideEffectsReview' 'urlDrugName']\n"
          ]
        }
      ]
    },
    {
      "cell_type": "markdown",
      "source": [
        "##### Check Missing Value"
      ],
      "metadata": {
        "id": "pTL-vOk8WB9s"
      }
    },
    {
      "cell_type": "code",
      "source": [
        "df_all.isnull().sum()"
      ],
      "metadata": {
        "id": "mlEro8VT9XVg",
        "outputId": "494bb342-819b-4283-b0ec-6a69e4329757",
        "execution": {
          "iopub.status.busy": "2022-05-13T21:55:08.092606Z",
          "iopub.execute_input": "2022-05-13T21:55:08.094610Z",
          "iopub.status.idle": "2022-05-13T21:55:08.111783Z",
          "shell.execute_reply.started": "2022-05-13T21:55:08.094571Z",
          "shell.execute_reply": "2022-05-13T21:55:08.111143Z"
        },
        "trusted": true,
        "colab": {
          "base_uri": "https://localhost:8080/"
        }
      },
      "execution_count": 10,
      "outputs": [
        {
          "output_type": "execute_result",
          "data": {
            "text/plain": [
              "benefitsReview       0\n",
              "commentsReview       8\n",
              "condition            1\n",
              "effectiveness        0\n",
              "rating               0\n",
              "sideEffects          0\n",
              "sideEffectsReview    2\n",
              "urlDrugName          0\n",
              "dtype: int64"
            ]
          },
          "metadata": {},
          "execution_count": 10
        }
      ]
    },
    {
      "cell_type": "code",
      "source": [
        "df_all.loc[df_all.isnull().any(axis=1)]"
      ],
      "metadata": {
        "id": "1YBcdMueKD-d",
        "outputId": "2e012291-8652-4793-80a0-7b299437b88b",
        "execution": {
          "iopub.status.busy": "2022-05-13T21:55:08.115266Z",
          "iopub.execute_input": "2022-05-13T21:55:08.117017Z",
          "iopub.status.idle": "2022-05-13T21:55:08.143977Z",
          "shell.execute_reply.started": "2022-05-13T21:55:08.116982Z",
          "shell.execute_reply": "2022-05-13T21:55:08.143369Z"
        },
        "trusted": true,
        "colab": {
          "base_uri": "https://localhost:8080/",
          "height": 664
        }
      },
      "execution_count": 11,
      "outputs": [
        {
          "output_type": "execute_result",
          "data": {
            "text/plain": [
              "                                         benefitsReview  \\\n",
              "147                 Treatment cleared up the infection.   \n",
              "400   Pills helped to lower my blood pressure.  Also...   \n",
              "407   This medication enabled me to think clearly.  ...   \n",
              "1238  Experienced 1 migrane in the past year since o...   \n",
              "1468                               preventing pregnancy   \n",
              "1965  i have been on xenical for a little over 2 wee...   \n",
              "2402  balancing of thyroid back to normal range. Pri...   \n",
              "2488  None.  I had a bacterial infection accompanyin...   \n",
              "2705                                    cleared up nose   \n",
              "2891  Controlled acne breakouts to some extent when ...   \n",
              "2921  My son had an allergic reaction.  He broke out...   \n",
              "\n",
              "                                         commentsReview  \\\n",
              "147                                                 NaN   \n",
              "400                                                 NaN   \n",
              "407                                                 NaN   \n",
              "1238                                                NaN   \n",
              "1468                                                NaN   \n",
              "1965                                                NaN   \n",
              "2402                                 .1mg daily orally.   \n",
              "2488  Absoutely innefective.  I easily could have be...   \n",
              "2705                                                NaN   \n",
              "2891  Took Doxylin 50 mg once daily for 3 months.  I...   \n",
              "2921                                                NaN   \n",
              "\n",
              "                                          condition           effectiveness  \\\n",
              "147                                    epididymitus    Moderately Effective   \n",
              "400                                    hypertension        Highly Effective   \n",
              "407                                            adhd  Considerably Effective   \n",
              "1238                      prevent menstral migranes        Highly Effective   \n",
              "1468                           preventing pregnancy  Considerably Effective   \n",
              "1965                                    over weight    Marginally Effective   \n",
              "2402                                        thyroid        Highly Effective   \n",
              "2488                                            NaN             Ineffective   \n",
              "2705  plugged up nose related to seasonal allergies  Considerably Effective   \n",
              "2891                                           acne    Moderately Effective   \n",
              "2921                                  ear infection             Ineffective   \n",
              "\n",
              "      rating            sideEffects  \\\n",
              "147        4    Severe Side Effects   \n",
              "400        8  Moderate Side Effects   \n",
              "407        8      Mild Side Effects   \n",
              "1238       9      Mild Side Effects   \n",
              "1468       4  Moderate Side Effects   \n",
              "1965       3        No Side Effects   \n",
              "2402      10        No Side Effects   \n",
              "2488       2        No Side Effects   \n",
              "2705       8        No Side Effects   \n",
              "2891       6        No Side Effects   \n",
              "2921       1    Severe Side Effects   \n",
              "\n",
              "                                      sideEffectsReview  urlDrugName  \n",
              "147   Treatment ended 2 months ago and have still go...  doxycycline  \n",
              "400   Back pain, especially after a missed dose.  In...       hyzaar  \n",
              "407   This medication caused me to be nervous, tremb...   ritalin-la  \n",
              "1238  Noticed light skin iritation.  Take the light ...   seasonique  \n",
              "1468  This pill was great b/c i didn't have any peri...   seasonique  \n",
              "1965    i dont have any other then now i am constipated      xenical  \n",
              "2402                                                NaN   levothroid  \n",
              "2488  The only good point I suppose is that there wa...       keflex  \n",
              "2705                                               none      flonase  \n",
              "2891                                                NaN  doxycycline  \n",
              "2921               Time - let them go away on their own       ceclor  "
            ],
            "text/html": [
              "\n",
              "  <div id=\"df-6fcfaa57-1653-4cec-a0e7-d684bf2f726f\">\n",
              "    <div class=\"colab-df-container\">\n",
              "      <div>\n",
              "<style scoped>\n",
              "    .dataframe tbody tr th:only-of-type {\n",
              "        vertical-align: middle;\n",
              "    }\n",
              "\n",
              "    .dataframe tbody tr th {\n",
              "        vertical-align: top;\n",
              "    }\n",
              "\n",
              "    .dataframe thead th {\n",
              "        text-align: right;\n",
              "    }\n",
              "</style>\n",
              "<table border=\"1\" class=\"dataframe\">\n",
              "  <thead>\n",
              "    <tr style=\"text-align: right;\">\n",
              "      <th></th>\n",
              "      <th>benefitsReview</th>\n",
              "      <th>commentsReview</th>\n",
              "      <th>condition</th>\n",
              "      <th>effectiveness</th>\n",
              "      <th>rating</th>\n",
              "      <th>sideEffects</th>\n",
              "      <th>sideEffectsReview</th>\n",
              "      <th>urlDrugName</th>\n",
              "    </tr>\n",
              "  </thead>\n",
              "  <tbody>\n",
              "    <tr>\n",
              "      <th>147</th>\n",
              "      <td>Treatment cleared up the infection.</td>\n",
              "      <td>NaN</td>\n",
              "      <td>epididymitus</td>\n",
              "      <td>Moderately Effective</td>\n",
              "      <td>4</td>\n",
              "      <td>Severe Side Effects</td>\n",
              "      <td>Treatment ended 2 months ago and have still go...</td>\n",
              "      <td>doxycycline</td>\n",
              "    </tr>\n",
              "    <tr>\n",
              "      <th>400</th>\n",
              "      <td>Pills helped to lower my blood pressure.  Also...</td>\n",
              "      <td>NaN</td>\n",
              "      <td>hypertension</td>\n",
              "      <td>Highly Effective</td>\n",
              "      <td>8</td>\n",
              "      <td>Moderate Side Effects</td>\n",
              "      <td>Back pain, especially after a missed dose.  In...</td>\n",
              "      <td>hyzaar</td>\n",
              "    </tr>\n",
              "    <tr>\n",
              "      <th>407</th>\n",
              "      <td>This medication enabled me to think clearly.  ...</td>\n",
              "      <td>NaN</td>\n",
              "      <td>adhd</td>\n",
              "      <td>Considerably Effective</td>\n",
              "      <td>8</td>\n",
              "      <td>Mild Side Effects</td>\n",
              "      <td>This medication caused me to be nervous, tremb...</td>\n",
              "      <td>ritalin-la</td>\n",
              "    </tr>\n",
              "    <tr>\n",
              "      <th>1238</th>\n",
              "      <td>Experienced 1 migrane in the past year since o...</td>\n",
              "      <td>NaN</td>\n",
              "      <td>prevent menstral migranes</td>\n",
              "      <td>Highly Effective</td>\n",
              "      <td>9</td>\n",
              "      <td>Mild Side Effects</td>\n",
              "      <td>Noticed light skin iritation.  Take the light ...</td>\n",
              "      <td>seasonique</td>\n",
              "    </tr>\n",
              "    <tr>\n",
              "      <th>1468</th>\n",
              "      <td>preventing pregnancy</td>\n",
              "      <td>NaN</td>\n",
              "      <td>preventing pregnancy</td>\n",
              "      <td>Considerably Effective</td>\n",
              "      <td>4</td>\n",
              "      <td>Moderate Side Effects</td>\n",
              "      <td>This pill was great b/c i didn't have any peri...</td>\n",
              "      <td>seasonique</td>\n",
              "    </tr>\n",
              "    <tr>\n",
              "      <th>1965</th>\n",
              "      <td>i have been on xenical for a little over 2 wee...</td>\n",
              "      <td>NaN</td>\n",
              "      <td>over weight</td>\n",
              "      <td>Marginally Effective</td>\n",
              "      <td>3</td>\n",
              "      <td>No Side Effects</td>\n",
              "      <td>i dont have any other then now i am constipated</td>\n",
              "      <td>xenical</td>\n",
              "    </tr>\n",
              "    <tr>\n",
              "      <th>2402</th>\n",
              "      <td>balancing of thyroid back to normal range. Pri...</td>\n",
              "      <td>.1mg daily orally.</td>\n",
              "      <td>thyroid</td>\n",
              "      <td>Highly Effective</td>\n",
              "      <td>10</td>\n",
              "      <td>No Side Effects</td>\n",
              "      <td>NaN</td>\n",
              "      <td>levothroid</td>\n",
              "    </tr>\n",
              "    <tr>\n",
              "      <th>2488</th>\n",
              "      <td>None.  I had a bacterial infection accompanyin...</td>\n",
              "      <td>Absoutely innefective.  I easily could have be...</td>\n",
              "      <td>NaN</td>\n",
              "      <td>Ineffective</td>\n",
              "      <td>2</td>\n",
              "      <td>No Side Effects</td>\n",
              "      <td>The only good point I suppose is that there wa...</td>\n",
              "      <td>keflex</td>\n",
              "    </tr>\n",
              "    <tr>\n",
              "      <th>2705</th>\n",
              "      <td>cleared up nose</td>\n",
              "      <td>NaN</td>\n",
              "      <td>plugged up nose related to seasonal allergies</td>\n",
              "      <td>Considerably Effective</td>\n",
              "      <td>8</td>\n",
              "      <td>No Side Effects</td>\n",
              "      <td>none</td>\n",
              "      <td>flonase</td>\n",
              "    </tr>\n",
              "    <tr>\n",
              "      <th>2891</th>\n",
              "      <td>Controlled acne breakouts to some extent when ...</td>\n",
              "      <td>Took Doxylin 50 mg once daily for 3 months.  I...</td>\n",
              "      <td>acne</td>\n",
              "      <td>Moderately Effective</td>\n",
              "      <td>6</td>\n",
              "      <td>No Side Effects</td>\n",
              "      <td>NaN</td>\n",
              "      <td>doxycycline</td>\n",
              "    </tr>\n",
              "    <tr>\n",
              "      <th>2921</th>\n",
              "      <td>My son had an allergic reaction.  He broke out...</td>\n",
              "      <td>NaN</td>\n",
              "      <td>ear infection</td>\n",
              "      <td>Ineffective</td>\n",
              "      <td>1</td>\n",
              "      <td>Severe Side Effects</td>\n",
              "      <td>Time - let them go away on their own</td>\n",
              "      <td>ceclor</td>\n",
              "    </tr>\n",
              "  </tbody>\n",
              "</table>\n",
              "</div>\n",
              "      <button class=\"colab-df-convert\" onclick=\"convertToInteractive('df-6fcfaa57-1653-4cec-a0e7-d684bf2f726f')\"\n",
              "              title=\"Convert this dataframe to an interactive table.\"\n",
              "              style=\"display:none;\">\n",
              "        \n",
              "  <svg xmlns=\"http://www.w3.org/2000/svg\" height=\"24px\"viewBox=\"0 0 24 24\"\n",
              "       width=\"24px\">\n",
              "    <path d=\"M0 0h24v24H0V0z\" fill=\"none\"/>\n",
              "    <path d=\"M18.56 5.44l.94 2.06.94-2.06 2.06-.94-2.06-.94-.94-2.06-.94 2.06-2.06.94zm-11 1L8.5 8.5l.94-2.06 2.06-.94-2.06-.94L8.5 2.5l-.94 2.06-2.06.94zm10 10l.94 2.06.94-2.06 2.06-.94-2.06-.94-.94-2.06-.94 2.06-2.06.94z\"/><path d=\"M17.41 7.96l-1.37-1.37c-.4-.4-.92-.59-1.43-.59-.52 0-1.04.2-1.43.59L10.3 9.45l-7.72 7.72c-.78.78-.78 2.05 0 2.83L4 21.41c.39.39.9.59 1.41.59.51 0 1.02-.2 1.41-.59l7.78-7.78 2.81-2.81c.8-.78.8-2.07 0-2.86zM5.41 20L4 18.59l7.72-7.72 1.47 1.35L5.41 20z\"/>\n",
              "  </svg>\n",
              "      </button>\n",
              "      \n",
              "  <style>\n",
              "    .colab-df-container {\n",
              "      display:flex;\n",
              "      flex-wrap:wrap;\n",
              "      gap: 12px;\n",
              "    }\n",
              "\n",
              "    .colab-df-convert {\n",
              "      background-color: #E8F0FE;\n",
              "      border: none;\n",
              "      border-radius: 50%;\n",
              "      cursor: pointer;\n",
              "      display: none;\n",
              "      fill: #1967D2;\n",
              "      height: 32px;\n",
              "      padding: 0 0 0 0;\n",
              "      width: 32px;\n",
              "    }\n",
              "\n",
              "    .colab-df-convert:hover {\n",
              "      background-color: #E2EBFA;\n",
              "      box-shadow: 0px 1px 2px rgba(60, 64, 67, 0.3), 0px 1px 3px 1px rgba(60, 64, 67, 0.15);\n",
              "      fill: #174EA6;\n",
              "    }\n",
              "\n",
              "    [theme=dark] .colab-df-convert {\n",
              "      background-color: #3B4455;\n",
              "      fill: #D2E3FC;\n",
              "    }\n",
              "\n",
              "    [theme=dark] .colab-df-convert:hover {\n",
              "      background-color: #434B5C;\n",
              "      box-shadow: 0px 1px 3px 1px rgba(0, 0, 0, 0.15);\n",
              "      filter: drop-shadow(0px 1px 2px rgba(0, 0, 0, 0.3));\n",
              "      fill: #FFFFFF;\n",
              "    }\n",
              "  </style>\n",
              "\n",
              "      <script>\n",
              "        const buttonEl =\n",
              "          document.querySelector('#df-6fcfaa57-1653-4cec-a0e7-d684bf2f726f button.colab-df-convert');\n",
              "        buttonEl.style.display =\n",
              "          google.colab.kernel.accessAllowed ? 'block' : 'none';\n",
              "\n",
              "        async function convertToInteractive(key) {\n",
              "          const element = document.querySelector('#df-6fcfaa57-1653-4cec-a0e7-d684bf2f726f');\n",
              "          const dataTable =\n",
              "            await google.colab.kernel.invokeFunction('convertToInteractive',\n",
              "                                                     [key], {});\n",
              "          if (!dataTable) return;\n",
              "\n",
              "          const docLinkHtml = 'Like what you see? Visit the ' +\n",
              "            '<a target=\"_blank\" href=https://colab.research.google.com/notebooks/data_table.ipynb>data table notebook</a>'\n",
              "            + ' to learn more about interactive tables.';\n",
              "          element.innerHTML = '';\n",
              "          dataTable['output_type'] = 'display_data';\n",
              "          await google.colab.output.renderOutput(dataTable, element);\n",
              "          const docLink = document.createElement('div');\n",
              "          docLink.innerHTML = docLinkHtml;\n",
              "          element.appendChild(docLink);\n",
              "        }\n",
              "      </script>\n",
              "    </div>\n",
              "  </div>\n",
              "  "
            ]
          },
          "metadata": {},
          "execution_count": 11
        }
      ]
    },
    {
      "cell_type": "markdown",
      "source": [
        "##### Fill in Missing Value\n",
        "In the Condition column included in the keflex product, fill in the infection value, as this product is frequently used for infection, and data containing other missing values will be removed because the data are owned by different reviewers\n"
      ],
      "metadata": {
        "id": "xztAkjWjgKHF"
      }
    },
    {
      "cell_type": "code",
      "source": [
        "df_all['condition'] = df_all['condition'].fillna('infection')\n",
        "df_all.dropna(axis=0, subset=['commentsReview', 'sideEffectsReview'], inplace=True)\n",
        "df_all.info(memory_usage=False)"
      ],
      "metadata": {
        "id": "6EFdexW1a4Ut",
        "outputId": "8789096f-1fe7-4962-bf50-7a71321fa614",
        "execution": {
          "iopub.status.busy": "2022-05-13T21:55:08.147555Z",
          "iopub.execute_input": "2022-05-13T21:55:08.149362Z",
          "iopub.status.idle": "2022-05-13T21:55:08.173663Z",
          "shell.execute_reply.started": "2022-05-13T21:55:08.149317Z",
          "shell.execute_reply": "2022-05-13T21:55:08.172975Z"
        },
        "trusted": true,
        "colab": {
          "base_uri": "https://localhost:8080/"
        }
      },
      "execution_count": 12,
      "outputs": [
        {
          "output_type": "stream",
          "name": "stdout",
          "text": [
            "<class 'pandas.core.frame.DataFrame'>\n",
            "Int64Index: 4133 entries, 0 to 4142\n",
            "Data columns (total 8 columns):\n",
            " #   Column             Non-Null Count  Dtype \n",
            "---  ------             --------------  ----- \n",
            " 0   benefitsReview     4133 non-null   object\n",
            " 1   commentsReview     4133 non-null   object\n",
            " 2   condition          4133 non-null   object\n",
            " 3   effectiveness      4133 non-null   object\n",
            " 4   rating             4133 non-null   int64 \n",
            " 5   sideEffects        4133 non-null   object\n",
            " 6   sideEffectsReview  4133 non-null   object\n",
            " 7   urlDrugName        4133 non-null   object\n",
            "dtypes: int64(1), object(7)"
          ]
        }
      ]
    },
    {
      "cell_type": "markdown",
      "source": [
        "##### Data Visualization"
      ],
      "metadata": {
        "id": "VWW6YRIYlW-n"
      }
    },
    {
      "cell_type": "code",
      "source": [
        "rating = df_all['rating'].value_counts()\n",
        "rating.plot(kind='bar', figsize=(14,6))\n",
        "plt.xlabel('', fontsize=20)\n",
        "plt.ylabel('', fontsize=20)\n",
        "plt.title('Count values of rating', fontsize=20)"
      ],
      "metadata": {
        "id": "7GLu8XtneZc3",
        "outputId": "08f5b18c-310d-4107-aba5-9f0ed7c1f435",
        "execution": {
          "iopub.status.busy": "2022-05-13T21:55:08.177458Z",
          "iopub.execute_input": "2022-05-13T21:55:08.179473Z",
          "iopub.status.idle": "2022-05-13T21:55:08.477846Z",
          "shell.execute_reply.started": "2022-05-13T21:55:08.179421Z",
          "shell.execute_reply": "2022-05-13T21:55:08.477205Z"
        },
        "trusted": true,
        "colab": {
          "base_uri": "https://localhost:8080/",
          "height": 415
        }
      },
      "execution_count": 13,
      "outputs": [
        {
          "output_type": "execute_result",
          "data": {
            "text/plain": [
              "Text(0.5, 1.0, 'Count values of rating')"
            ]
          },
          "metadata": {},
          "execution_count": 13
        },
        {
          "output_type": "display_data",
          "data": {
            "text/plain": [
              "<Figure size 1008x432 with 1 Axes>"
            ],
            "image/png": "[encoded data removed]"
          },
          "metadata": {
            "needs_background": "light"
          }
        }
      ]
    },
    {
      "cell_type": "markdown",
      "source": [
        "#### Feature Engineering"
      ],
      "metadata": {
        "id": "yK_UNQphriwt"
      }
    },
    {
      "cell_type": "markdown",
      "source": [
        "##### Stopword Remove"
      ],
      "metadata": {
        "id": "yrK9Jva-2Ruw"
      }
    },
    {
      "cell_type": "code",
      "source": [
        "english_stops = set(stopwords.words('english'))\n",
        "\n",
        "#merge columns review\n",
        "df_all['review'] = df_all['condition'] + df_all['commentsReview'] + df_all['benefitsReview'] + df_all['sideEffectsReview'] + df_all['sideEffects']\n",
        "df_all['review'] = df_all['review'].replace({'<.*?>': ''}, regex = True) # remove html tag\n",
        "df_all['review'] = df_all['review'].replace({'[^A-Za-z]': ' '}, regex = True) # remove non alphabet\n",
        "df_all['review'] = df_all['review'].replace({'\\s+[a-zA-Z]\\s+': ' '}, regex = True) # Single character removal\n",
        "df_all['review'] = df_all['review'].replace({'\\s+': ' '}, regex = True) # Replacing the digits/numbers\n",
        "\n",
        "df_all['review'] = df_all['review'].apply(lambda review: [w for w in review.split() if w not in english_stops]) # remove stop words\n",
        "df_all['review'] = df_all['review'].apply(lambda review: [Word(w).lemmatize() for w in review]) # lemmatize\n",
        "df_all['review'] = df_all['review'].apply(lambda review: [w.lower() for w in review]) # lower case  "
      ],
      "metadata": {
        "id": "lB8dm0rX2SZY",
        "execution": {
          "iopub.status.busy": "2022-05-13T21:55:08.481631Z",
          "iopub.execute_input": "2022-05-13T21:55:08.483471Z",
          "iopub.status.idle": "2022-05-13T21:55:15.325616Z",
          "shell.execute_reply.started": "2022-05-13T21:55:08.483418Z",
          "shell.execute_reply": "2022-05-13T21:55:15.323376Z"
        },
        "trusted": true
      },
      "execution_count": 266,
      "outputs": []
    },
    {
      "cell_type": "code",
      "source": [
        "common_words=''\n",
        "for x,i in enumerate(df_all.review):\n",
        "    common_words += ' '.join(i)+' '\n",
        "wordcloud = ws.WordCloud().generate(common_words)\n",
        "plt.imshow(wordcloud, interpolation='bilinear')\n",
        "plt.axis(\"off\")\n",
        "plt.show()"
      ],
      "metadata": {
        "execution": {
          "iopub.status.busy": "2022-05-13T21:55:15.331879Z",
          "iopub.execute_input": "2022-05-13T21:55:15.334535Z",
          "iopub.status.idle": "2022-05-13T21:55:17.966505Z",
          "shell.execute_reply.started": "2022-05-13T21:55:15.334480Z",
          "shell.execute_reply": "2022-05-13T21:55:17.965495Z"
        },
        "trusted": true,
        "colab": {
          "base_uri": "https://localhost:8080/",
          "height": 198
        },
        "id": "ZQtObGPFbuDE",
        "outputId": "0c46f15e-c74c-400b-b3b7-c688a27c9df3"
      },
      "execution_count": 267,
      "outputs": [
        {
          "output_type": "display_data",
          "data": {
            "text/plain": [
              "<Figure size 432x288 with 1 Axes>"
            ],
            "image/png": "[encoded data removed]"
          },
          "metadata": {
            "needs_background": "light"
          }
        }
      ]
    },
    {
      "cell_type": "markdown",
      "source": [
        "##### Encoding"
      ],
      "metadata": {
        "id": "rFLW8L7EqWo8"
      }
    },
    {
      "cell_type": "code",
      "source": [
        "# encode rating\n",
        "df_all['rating_reviews'] = df_all['rating'].apply(lambda x: 'netral' if x > 3 and x < 6 else 'negatif' if x < 3 else 'positif')\n",
        "encode = pd.get_dummies(df_all['rating_reviews'])\n",
        "\n",
        "dfs = pd.concat([df_all, encode], axis=1)\n",
        "dfs = dfs.drop(columns=['commentsReview', 'benefitsReview', 'sideEffectsReview'])\n",
        "\n",
        "feature = dfs['review'].values\n",
        "target = dfs[encode.columns].values"
      ],
      "metadata": {
        "id": "ho4IGcB51vz3",
        "execution": {
          "iopub.status.busy": "2022-05-13T21:55:17.968050Z",
          "iopub.execute_input": "2022-05-13T21:55:17.968454Z",
          "iopub.status.idle": "2022-05-13T21:55:17.988051Z",
          "shell.execute_reply.started": "2022-05-13T21:55:17.968414Z",
          "shell.execute_reply": "2022-05-13T21:55:17.987200Z"
        },
        "trusted": true
      },
      "execution_count": 63,
      "outputs": []
    },
    {
      "cell_type": "markdown",
      "source": [
        "##### Train Test Split"
      ],
      "metadata": {
        "id": "iQwtmcoYqX1T"
      }
    },
    {
      "cell_type": "code",
      "source": [
        "X_train, X_test, y_train, y_test = train_test_split(feature, target, test_size=0.2)"
      ],
      "metadata": {
        "id": "BW6ieDoD3fwN",
        "execution": {
          "iopub.status.busy": "2022-05-13T21:55:17.990512Z",
          "iopub.execute_input": "2022-05-13T21:55:17.990909Z",
          "iopub.status.idle": "2022-05-13T21:55:17.996217Z",
          "shell.execute_reply.started": "2022-05-13T21:55:17.990874Z",
          "shell.execute_reply": "2022-05-13T21:55:17.995586Z"
        },
        "trusted": true
      },
      "execution_count": 64,
      "outputs": []
    },
    {
      "cell_type": "code",
      "source": [
        "def get_max_length():\n",
        "    review_length = []\n",
        "    for review in X_train:\n",
        "        review_length.append(len(review))\n",
        "\n",
        "    return int(np.ceil(np.mean(review_length)))"
      ],
      "metadata": {
        "id": "DFxim3TpVcZc",
        "execution": {
          "iopub.status.busy": "2022-05-13T21:55:17.998616Z",
          "iopub.execute_input": "2022-05-13T21:55:18.001109Z",
          "iopub.status.idle": "2022-05-13T21:55:18.010959Z",
          "shell.execute_reply.started": "2022-05-13T21:55:18.001061Z",
          "shell.execute_reply": "2022-05-13T21:55:18.010235Z"
        },
        "trusted": true
      },
      "execution_count": 65,
      "outputs": []
    },
    {
      "cell_type": "markdown",
      "source": [
        "##### Tokenizer"
      ],
      "metadata": {
        "id": "G3utFLMO2bZQ"
      }
    },
    {
      "cell_type": "code",
      "source": [
        "tokenizer = Tokenizer(lower=False, oov_token='-')\n",
        "tokenizer.fit_on_texts(X_train)\n",
        "tokenizer.fit_on_texts(X_test)\n",
        " \n",
        "sekuens_train = tokenizer.texts_to_sequences(X_train)\n",
        "sekuens_test = tokenizer.texts_to_sequences(X_test)\n",
        "\n",
        "max_length = get_max_length()\n",
        "\n",
        "padded_train = pad_sequences(sekuens_train, maxlen=max_length, padding='post', truncating='post')\n",
        "padded_test = pad_sequences(sekuens_test, maxlen=max_length, padding='post', truncating='post')\n",
        "\n",
        "total_words = len(tokenizer.word_index) + 1"
      ],
      "metadata": {
        "id": "KM8PKPFSrn3d",
        "execution": {
          "iopub.status.busy": "2022-05-13T21:55:18.012605Z",
          "iopub.execute_input": "2022-05-13T21:55:18.013121Z",
          "iopub.status.idle": "2022-05-13T21:55:18.530710Z",
          "shell.execute_reply.started": "2022-05-13T21:55:18.013078Z",
          "shell.execute_reply": "2022-05-13T21:55:18.529878Z"
        },
        "trusted": true
      },
      "execution_count": 66,
      "outputs": []
    },
    {
      "cell_type": "markdown",
      "source": [
        "##### pre-trained word embeddings"
      ],
      "metadata": {
        "id": "yYWXm5agbuDF"
      }
    },
    {
      "cell_type": "code",
      "source": [
        "path_to_glove_file = os.path.join(\n",
        "    pretrained_dir, 'glove.6B.100d.txt'\n",
        ")\n",
        "\n",
        "embeddings_index = dict()\n",
        "with open(path_to_glove_file) as f:\n",
        "    for line in f:\n",
        "        word, coefs = line.split(maxsplit=1)\n",
        "        coefs = np.fromstring(coefs, \"f\", sep=\" \")\n",
        "        embeddings_index[word] = coefs\n",
        "\n",
        "print(\"Found %s word vectors.\" % len(embeddings_index))"
      ],
      "metadata": {
        "execution": {
          "iopub.status.busy": "2022-05-13T21:55:18.535234Z",
          "iopub.execute_input": "2022-05-13T21:55:18.537290Z",
          "iopub.status.idle": "2022-05-13T21:56:06.766297Z",
          "shell.execute_reply.started": "2022-05-13T21:55:18.537252Z",
          "shell.execute_reply": "2022-05-13T21:56:06.765576Z"
        },
        "trusted": true,
        "colab": {
          "base_uri": "https://localhost:8080/"
        },
        "id": "evksCChabuDF",
        "outputId": "92f5e8df-8d15-4822-eee9-0db763c4cf72"
      },
      "execution_count": 274,
      "outputs": [
        {
          "output_type": "stream",
          "name": "stdout",
          "text": [
            "Found 400000 word vectors.\n"
          ]
        }
      ]
    },
    {
      "cell_type": "code",
      "source": [
        "embedding_matrix = np.zeros((total_words, 100))\n",
        "\n",
        "for word, i in tokenizer.word_index.items():\n",
        "    embedding_vector = embeddings_index.get(word)\n",
        "    if embedding_vector is not None:\n",
        "        embedding_matrix[i] = embedding_vector"
      ],
      "metadata": {
        "execution": {
          "iopub.status.busy": "2022-05-13T21:56:06.770265Z",
          "iopub.execute_input": "2022-05-13T21:56:06.772149Z",
          "iopub.status.idle": "2022-05-13T21:56:06.900430Z",
          "shell.execute_reply.started": "2022-05-13T21:56:06.772113Z",
          "shell.execute_reply": "2022-05-13T21:56:06.899617Z"
        },
        "trusted": true,
        "id": "FcZaJDBbbuDF"
      },
      "execution_count": 275,
      "outputs": []
    },
    {
      "cell_type": "markdown",
      "source": [
        "#### Build Model"
      ],
      "metadata": {
        "id": "eyzdqi7e2fr0"
      }
    },
    {
      "cell_type": "code",
      "source": [
        "def plot(val_train, val_test, title):\n",
        "  plt.plot(val_train)\n",
        "  plt.plot(val_test)\n",
        "  plt.title(title)\n",
        "  plt.ylabel('loss')\n",
        "  plt.xlabel('epoch')\n",
        "  plt.legend(['Train', 'Test'], loc='upper right')\n",
        "  plt.show()"
      ],
      "metadata": {
        "id": "GAl9TqRA4nXm",
        "execution": {
          "iopub.status.busy": "2022-05-13T21:56:07.460459Z",
          "iopub.execute_input": "2022-05-13T21:56:07.462441Z",
          "iopub.status.idle": "2022-05-13T21:56:07.469639Z",
          "shell.execute_reply.started": "2022-05-13T21:56:07.462403Z",
          "shell.execute_reply": "2022-05-13T21:56:07.468959Z"
        },
        "trusted": true
      },
      "execution_count": 230,
      "outputs": []
    },
    {
      "cell_type": "markdown",
      "source": [
        "###### GridSearchCV"
      ],
      "metadata": {
        "id": "mhbpKsig86M4"
      }
    },
    {
      "cell_type": "code",
      "source": [
        "from keras import backend as backend\n",
        "def create_model(unit=128, LSTM_OUT=64, optimizer='adam'):\n",
        "    backend.clear_session()\n",
        "    model = tf.keras.Sequential()\n",
        "    model.add(tf.keras.layers.Embedding(total_words, EMBED_DIM, weights=[embedding_matrix], input_length=max_length, trainable=False))\n",
        "    model.add(tf.keras.layers.SpatialDropout1D(0.2))\n",
        "    model.add(tf.keras.layers.LSTM(LSTM_OUT, return_sequences=True))\n",
        "    model.add(tf.keras.layers.Dense(unit, activation='relu'))\n",
        "    model.add(tf.keras.layers.LSTM(LSTM_OUT))\n",
        "    model.add(tf.keras.layers.Dense(unit, activation='relu'))\n",
        "    model.add(tf.keras.layers.Dense(y_train.shape[1], activation='softmax'))\n",
        "    model.compile(loss='categorical_crossentropy', optimizer=optimizer, metrics=['accuracy'])\n",
        "    return model"
      ],
      "metadata": {
        "id": "snUIQ_GE5WsA",
        "execution": {
          "iopub.status.busy": "2022-05-13T21:56:07.487170Z",
          "iopub.execute_input": "2022-05-13T21:56:07.489608Z",
          "iopub.status.idle": "2022-05-13T21:56:07.503880Z",
          "shell.execute_reply.started": "2022-05-13T21:56:07.489570Z",
          "shell.execute_reply": "2022-05-13T21:56:07.502947Z"
        },
        "trusted": true
      },
      "execution_count": 235,
      "outputs": []
    },
    {
      "cell_type": "code",
      "source": [
        "model = KerasClassifier(build_fn=create_model, batch_size=64, verbose=1)\n",
        "\n",
        "params = {\n",
        "    'optimizer': ['Adam', 'sgd'],\n",
        "    }\n",
        "grid_result = GridSearchCV(estimator=model, param_grid=params, cv=3)\n",
        "grid_result = grid_result.fit(padded_train, y_train)"
      ],
      "metadata": {
        "id": "Ngj3WKHw7Tp9",
        "tags": [],
        "execution": {
          "iopub.status.busy": "2022-05-13T21:56:07.508217Z",
          "iopub.execute_input": "2022-05-13T21:56:07.510555Z"
        },
        "trusted": true,
        "colab": {
          "base_uri": "https://localhost:8080/"
        },
        "outputId": "611d4714-9e3f-4fda-d77a-411120850072"
      },
      "execution_count": 242,
      "outputs": [
        {
          "output_type": "stream",
          "name": "stderr",
          "text": [
            "/usr/local/lib/python3.7/dist-packages/ipykernel_launcher.py:1: DeprecationWarning: KerasClassifier is deprecated, use Sci-Keras (https://github.com/adriangb/scikeras) instead. See https://www.adriangb.com/scikeras/stable/migration.html for help migrating.\n",
            "  \"\"\"Entry point for launching an IPython kernel.\n"
          ]
        },
        {
          "output_type": "stream",
          "name": "stdout",
          "text": [
            "18/18 [==============================] - 3s 16ms/step - loss: 0.8270 - accuracy: 0.7373\n",
            "9/9 [==============================] - 1s 7ms/step - loss: 0.6661 - accuracy: 0.7931\n",
            "18/18 [==============================] - 3s 17ms/step - loss: 0.7994 - accuracy: 0.7423\n",
            "9/9 [==============================] - 1s 7ms/step - loss: 0.6640 - accuracy: 0.7858\n",
            "18/18 [==============================] - 3s 16ms/step - loss: 0.8194 - accuracy: 0.7486\n",
            "9/9 [==============================] - 1s 8ms/step - loss: 0.7228 - accuracy: 0.7623\n",
            "18/18 [==============================] - 4s 15ms/step - loss: 1.0407 - accuracy: 0.7600\n",
            "9/9 [==============================] - 1s 8ms/step - loss: 0.9755 - accuracy: 0.7931\n",
            "18/18 [==============================] - 3s 15ms/step - loss: 1.0316 - accuracy: 0.7423\n",
            "9/9 [==============================] - 1s 7ms/step - loss: 0.9535 - accuracy: 0.7858\n",
            "18/18 [==============================] - 3s 17ms/step - loss: 1.0459 - accuracy: 0.6788\n",
            "9/9 [==============================] - 1s 7ms/step - loss: 0.9735 - accuracy: 0.7623\n",
            "26/26 [==============================] - 3s 16ms/step - loss: 0.7615 - accuracy: 0.7638\n"
          ]
        }
      ]
    },
    {
      "cell_type": "code",
      "source": [
        "# summarize results\n",
        "print(\"Best: %f using %s\" % (grid_result.best_score_, grid_result.best_params_))\n",
        "means = grid_result.cv_results_['mean_test_score']\n",
        "stds = grid_result.cv_results_['std_test_score']\n",
        "params = grid_result.cv_results_['params']\n",
        "for mean, stdev, param in zip(means, stds, params):\n",
        "    print(\"%f (%f) with: %r\" % (mean, stdev, param))"
      ],
      "metadata": {
        "id": "QCUQM24978t1",
        "trusted": true,
        "colab": {
          "base_uri": "https://localhost:8080/"
        },
        "outputId": "a3f02234-0163-4bca-c1a0-09d48f97b76e"
      },
      "execution_count": 243,
      "outputs": [
        {
          "output_type": "stream",
          "name": "stdout",
          "text": [
            "Best: 0.780399 using {'optimizer': 'Adam'}\n",
            "0.780399 (0.013171) with: {'optimizer': 'Adam'}\n",
            "0.780399 (0.013171) with: {'optimizer': 'sgd'}\n"
          ]
        }
      ]
    },
    {
      "cell_type": "code",
      "source": [
        "EMBED_DIM = 100\n",
        "LSTM_OUT = 64\n",
        "\n",
        "num_epochs = 100\n",
        "num_batch_size = 64\n",
        "callbacks = EarlyStopping(monitor='val_accuracy', \n",
        "                   mode='max', \n",
        "                   patience=5, \n",
        "                   restore_best_weights=True)"
      ],
      "metadata": {
        "id": "WzLuonJe4VDf",
        "execution": {
          "iopub.status.busy": "2022-05-13T21:56:07.474160Z",
          "iopub.execute_input": "2022-05-13T21:56:07.476604Z",
          "iopub.status.idle": "2022-05-13T21:56:07.482804Z",
          "shell.execute_reply.started": "2022-05-13T21:56:07.476566Z",
          "shell.execute_reply": "2022-05-13T21:56:07.481917Z"
        },
        "trusted": true
      },
      "execution_count": 293,
      "outputs": []
    },
    {
      "cell_type": "code",
      "source": [
        "model = tf.keras.Sequential([\n",
        "    tf.keras.layers.Embedding(total_words, EMBED_DIM, weights=[embedding_matrix], input_length=max_length, trainable=False),\n",
        "    tf.keras.layers.Bidirectional(tf.keras.layers.LSTM(128, return_sequences=True)),\n",
        "    tf.keras.layers.Bidirectional(tf.keras.layers.LSTM(64, return_sequences=True)),\n",
        "    tf.keras.layers.Bidirectional(tf.keras.layers.LSTM(32)),\n",
        "    tf.keras.layers.Dense(16, activation='relu'),\n",
        "    tf.keras.layers.Dense(y_train.shape[1], activation='softmax')\n",
        "])\n",
        "model.summary()\n",
        "model.compile(optimizer='Adam', loss='categorical_crossentropy', metrics=['accuracy'])"
      ],
      "metadata": {
        "id": "W8uYa3rs5KFO",
        "trusted": true,
        "colab": {
          "base_uri": "https://localhost:8080/"
        },
        "outputId": "2b92d017-057a-4882-8cb4-25239ef865fc"
      },
      "execution_count": 294,
      "outputs": [
        {
          "output_type": "stream",
          "name": "stdout",
          "text": [
            "Model: \"sequential_18\"\n",
            "_________________________________________________________________\n",
            " Layer (type)                Output Shape              Param #   \n",
            "=================================================================\n",
            " embedding_18 (Embedding)    (None, 70, 100)           1851900   \n",
            "                                                                 \n",
            " bidirectional_18 (Bidirecti  (None, 70, 256)          234496    \n",
            " onal)                                                           \n",
            "                                                                 \n",
            " bidirectional_19 (Bidirecti  (None, 70, 128)          164352    \n",
            " onal)                                                           \n",
            "                                                                 \n",
            " bidirectional_20 (Bidirecti  (None, 64)               41216     \n",
            " onal)                                                           \n",
            "                                                                 \n",
            " dense_42 (Dense)            (None, 16)                1040      \n",
            "                                                                 \n",
            " dense_43 (Dense)            (None, 3)                 51        \n",
            "                                                                 \n",
            "=================================================================\n",
            "Total params: 2,293,055\n",
            "Trainable params: 441,155\n",
            "Non-trainable params: 1,851,900\n",
            "_________________________________________________________________\n"
          ]
        }
      ]
    },
    {
      "cell_type": "code",
      "source": [
        "history1 = model.fit(padded_train, y_train, batch_size=num_batch_size, epochs=100, \n",
        "                    validation_data=(padded_test, y_test), verbose=1, callbacks=[callbacks])"
      ],
      "metadata": {
        "id": "nj1CbT-Y548R",
        "trusted": true,
        "colab": {
          "base_uri": "https://localhost:8080/"
        },
        "outputId": "ab3f74a9-116a-4c7a-dc56-c5cc89bbe127"
      },
      "execution_count": 295,
      "outputs": [
        {
          "output_type": "stream",
          "name": "stdout",
          "text": [
            "Epoch 1/100\n",
            "52/52 [==============================] - 11s 70ms/step - loss: 0.7097 - accuracy: 0.7665 - val_loss: 0.7363 - val_accuracy: 0.7533\n",
            "Epoch 2/100\n",
            "52/52 [==============================] - 2s 33ms/step - loss: 0.6742 - accuracy: 0.7804 - val_loss: 0.7393 - val_accuracy: 0.7533\n",
            "Epoch 3/100\n",
            "52/52 [==============================] - 2s 33ms/step - loss: 0.6709 - accuracy: 0.7804 - val_loss: 0.6963 - val_accuracy: 0.7533\n",
            "Epoch 4/100\n",
            "52/52 [==============================] - 2s 33ms/step - loss: 0.6359 - accuracy: 0.7868 - val_loss: 0.6330 - val_accuracy: 0.7932\n",
            "Epoch 5/100\n",
            "52/52 [==============================] - 2s 34ms/step - loss: 0.5797 - accuracy: 0.8007 - val_loss: 0.6248 - val_accuracy: 0.8029\n",
            "Epoch 6/100\n",
            "52/52 [==============================] - 2s 32ms/step - loss: 0.5527 - accuracy: 0.8131 - val_loss: 0.6126 - val_accuracy: 0.7993\n",
            "Epoch 7/100\n",
            "52/52 [==============================] - 2s 33ms/step - loss: 0.5352 - accuracy: 0.8224 - val_loss: 0.6318 - val_accuracy: 0.7848\n",
            "Epoch 8/100\n",
            "52/52 [==============================] - 2s 32ms/step - loss: 0.5192 - accuracy: 0.8273 - val_loss: 0.6349 - val_accuracy: 0.7932\n",
            "Epoch 9/100\n",
            "52/52 [==============================] - 2s 33ms/step - loss: 0.4954 - accuracy: 0.8300 - val_loss: 0.6356 - val_accuracy: 0.7920\n",
            "Epoch 10/100\n",
            "52/52 [==============================] - 2s 33ms/step - loss: 0.4659 - accuracy: 0.8397 - val_loss: 0.6355 - val_accuracy: 0.7908\n"
          ]
        }
      ]
    },
    {
      "cell_type": "markdown",
      "source": [
        "###### Plot Accuracy"
      ],
      "metadata": {
        "id": "uv9TwmVf7Y_Z"
      }
    },
    {
      "cell_type": "code",
      "source": [
        "plot(history1.history['accuracy'], history1.history['val_accuracy'], 'Model-1 accuracy')"
      ],
      "metadata": {
        "id": "KPfvV3eO7cnE",
        "trusted": true,
        "colab": {
          "base_uri": "https://localhost:8080/",
          "height": 295
        },
        "outputId": "e46f792d-2a93-4206-86c4-7ff1616a360c"
      },
      "execution_count": 296,
      "outputs": [
        {
          "output_type": "display_data",
          "data": {
            "text/plain": [
              "<Figure size 432x288 with 1 Axes>"
            ],
            "image/png": "[encoded data removed]"
          },
          "metadata": {
            "needs_background": "light"
          }
        }
      ]
    },
    {
      "cell_type": "markdown",
      "source": [
        "###### Plot Loss"
      ],
      "metadata": {
        "id": "ZmTwf9Hj7Z-0"
      }
    },
    {
      "cell_type": "code",
      "source": [
        "plot(history1.history['loss'], history1.history['val_loss'], 'Model-1 loss')"
      ],
      "metadata": {
        "id": "SE8O9TWt7c9N",
        "trusted": true,
        "colab": {
          "base_uri": "https://localhost:8080/",
          "height": 295
        },
        "outputId": "7cb69c02-2ffa-48c8-c90a-6ab70f6a651f"
      },
      "execution_count": 297,
      "outputs": [
        {
          "output_type": "display_data",
          "data": {
            "text/plain": [
              "<Figure size 432x288 with 1 Axes>"
            ],
            "image/png": "[encoded data removed]"
          },
          "metadata": {
            "needs_background": "light"
          }
        }
      ]
    },
    {
      "cell_type": "markdown",
      "source": [
        "###### Model evaluate score"
      ],
      "metadata": {
        "id": "eMdvDtn19MV3"
      }
    },
    {
      "cell_type": "code",
      "source": [
        "score = model.evaluate(padded_test, y_test, verbose=0)\n",
        "print('Test loss:', score[0]) \n",
        "print('Test accuracy:', score[1]) "
      ],
      "metadata": {
        "id": "7kZKjVVqlHwi",
        "colab": {
          "base_uri": "https://localhost:8080/"
        },
        "outputId": "7b36e106-fc4a-4c28-9ed2-908bf6339dc3"
      },
      "execution_count": 299,
      "outputs": [
        {
          "output_type": "stream",
          "name": "stdout",
          "text": [
            "Test loss: 0.624801516532898\n",
            "Test accuracy: 0.8029020428657532\n"
          ]
        }
      ]
    }
  ]
}