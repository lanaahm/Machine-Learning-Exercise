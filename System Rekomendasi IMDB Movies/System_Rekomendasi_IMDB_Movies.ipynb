{
  "nbformat": 4,
  "nbformat_minor": 0,
  "metadata": {
    "colab": {
      "name": "System_Rekomendasi_IMDB_Movies.ipynb",
      "provenance": [],
      "toc_visible": true
    },
    "kernelspec": {
      "name": "python3",
      "display_name": "Python 3"
    },
    "language_info": {
      "name": "python"
    },
    "accelerator": "GPU"
  },
  "cells": [
    {
      "cell_type": "markdown",
      "source": [
        "# IMDB Movies Content Based Filtering (KNN and Cosine similarity)\n",
        "\n",
        "## DataSet Information:\n",
        "<p align='center'>\n",
        "\t<img  width='100%' src='\n",
        "https://user-images.githubusercontent.com/57904007/170904420-aa173c83-573b-434b-a316-525faa908e35.png' alt='Sumber: https://www.kaggle.com/datasets/harshitshankhdhar/imdb-dataset-of-top-1000-movies-and-tv-shows'>\n",
        "</p>\n",
        "\n",
        "| Jenis | Keterangan |\n",
        "| - | - |\n",
        "| Sumber | [Kaggle Dataset : IMDB Movies Dataset](https://www.kaggle.com/datasets/harshitshankhdhar/imdb-dataset-of-top-1000-movies-and-tv-shows/metadata) |\n",
        "| Jenis dan Ukuran Berkas | CSV (438.1 kB) |\n",
        "| Rating Penggunaan | 10.0 (Silver) |\n",
        "| Lisensi | CC0: Public Domain |\n",
        "\n",
        "Penjelasan mengenai variabel-variable pada data diabetes dapat dilihat pada poin-poin berikut:\n",
        "\n",
        "- `Poster_Link`: Link poster film.\n",
        "- `Series_Title`: Nama film.\n",
        "- `Released_Year`: Tahun rilis film.\n",
        "- `Certificate`: Sertifikat yang diperoleh dari film tersebut.\n",
        "- `Runtime`: Durasi film.\n",
        "- `Genre`: Genre film.\n",
        "- `IMDB_Rating`: Peringkat film pada situs IMDB.\n",
        "- `Overview`: Sinopsis / ringkasan dari film tersbut.\n",
        "- `Meta_score`: Skor yang diperoleh dari film tersbut.\n",
        "- `Director`: Director dari film.\n",
        "- `Star1,Star2,Star3,Star4`: Pemeran bintang  pada film tersebut.\n",
        "- `No_of_Votes`: Jumlah total vote dari film tersebut.\n",
        "- `Gross`: Penghasilan yang diperoleh film tersebut."
      ],
      "metadata": {
        "id": "ZguetiX3tTeu"
      }
    },
    {
      "cell_type": "markdown",
      "source": [
        "## Import Dataset"
      ],
      "metadata": {
        "id": "TXSkVcyRyAaM"
      }
    },
    {
      "cell_type": "code",
      "execution_count": 31,
      "metadata": {
        "id": "gfvxiFcMs8P5"
      },
      "outputs": [],
      "source": [
        "import os\n",
        "os.environ['KAGGLE_USERNAME'] = 'lanaahm'\n",
        "os.environ['KAGGLE_KEY'] = 'c5dac849baf021db5db739062fdf3105'"
      ]
    },
    {
      "cell_type": "code",
      "source": [
        "!kaggle datasets download -d harshitshankhdhar/imdb-dataset-of-top-1000-movies-and-tv-shows"
      ],
      "metadata": {
        "colab": {
          "base_uri": "https://localhost:8080/"
        },
        "id": "cftb10P1yTO2",
        "outputId": "d23e0d87-77ef-48c2-a981-06277b8a8c15"
      },
      "execution_count": 32,
      "outputs": [
        {
          "output_type": "stream",
          "name": "stdout",
          "text": [
            "imdb-dataset-of-top-1000-movies-and-tv-shows.zip: Skipping, found more recently modified local copy (use --force to force download)\n"
          ]
        }
      ]
    },
    {
      "cell_type": "code",
      "source": [
        "!unzip /content/imdb-dataset-of-top-1000-movies-and-tv-shows.zip"
      ],
      "metadata": {
        "colab": {
          "base_uri": "https://localhost:8080/"
        },
        "id": "sr3ILPnMyc5p",
        "outputId": "88be8cf2-79f7-458d-e87e-43f1e8481e4c"
      },
      "execution_count": 33,
      "outputs": [
        {
          "output_type": "stream",
          "name": "stdout",
          "text": [
            "Archive:  /content/imdb-dataset-of-top-1000-movies-and-tv-shows.zip\n",
            "replace imdb_top_1000.csv? [y]es, [n]o, [A]ll, [N]one, [r]ename: y\n",
            "  inflating: imdb_top_1000.csv       \n"
          ]
        }
      ]
    },
    {
      "cell_type": "markdown",
      "source": [
        "## Import Library"
      ],
      "metadata": {
        "id": "v3dYJyf9yo6K"
      }
    },
    {
      "cell_type": "code",
      "source": [
        "import numpy as np\n",
        "import pandas as pd\n",
        "import seaborn as sns\n",
        "import matplotlib.pyplot as plt\n",
        "from sklearn.impute import KNNImputer\n",
        "from sklearn import preprocessing\n",
        "from sklearn.model_selection import train_test_split\n",
        "from sklearn.preprocessing import MinMaxScaler\n",
        "from sklearn.neighbors import NearestNeighbors\n",
        "from sklearn.metrics.pairwise import cosine_similarity\n",
        "from sklearn.metrics import calinski_harabasz_score, davies_bouldin_score\n",
        "%matplotlib inline"
      ],
      "metadata": {
        "id": "0uIGcVdqyjEA"
      },
      "execution_count": 34,
      "outputs": []
    },
    {
      "cell_type": "markdown",
      "source": [
        "## Data Understanding"
      ],
      "metadata": {
        "id": "F8BydesVy2s7"
      }
    },
    {
      "cell_type": "markdown",
      "source": [
        "### Convert Dataset into pandas"
      ],
      "metadata": {
        "id": "AmfupALdzAEh"
      }
    },
    {
      "cell_type": "code",
      "source": [
        "df = pd.read_csv('/content/imdb_top_1000.csv')\n",
        "df.head()"
      ],
      "metadata": {
        "colab": {
          "base_uri": "https://localhost:8080/",
          "height": 721
        },
        "id": "u3vLsOgeytr6",
        "outputId": "9a9ffde2-e9de-47a3-c589-bce8b88dd3d2"
      },
      "execution_count": 152,
      "outputs": [
        {
          "output_type": "execute_result",
          "data": {
            "text/plain": [
              "                                         Poster_Link  \\\n",
              "0  https://m.media-amazon.com/images/M/MV5BMDFkYT...   \n",
              "1  https://m.media-amazon.com/images/M/MV5BM2MyNj...   \n",
              "2  https://m.media-amazon.com/images/M/MV5BMTMxNT...   \n",
              "3  https://m.media-amazon.com/images/M/MV5BMWMwMG...   \n",
              "4  https://m.media-amazon.com/images/M/MV5BMWU4N2...   \n",
              "\n",
              "               Series_Title Released_Year Certificate  Runtime  \\\n",
              "0  The Shawshank Redemption          1994           A  142 min   \n",
              "1             The Godfather          1972           A  175 min   \n",
              "2           The Dark Knight          2008          UA  152 min   \n",
              "3    The Godfather: Part II          1974           A  202 min   \n",
              "4              12 Angry Men          1957           U   96 min   \n",
              "\n",
              "                  Genre  IMDB_Rating  \\\n",
              "0                 Drama          9.3   \n",
              "1          Crime, Drama          9.2   \n",
              "2  Action, Crime, Drama          9.0   \n",
              "3          Crime, Drama          9.0   \n",
              "4          Crime, Drama          9.0   \n",
              "\n",
              "                                            Overview  Meta_score  \\\n",
              "0  Two imprisoned men bond over a number of years...        80.0   \n",
              "1  An organized crime dynasty's aging patriarch t...       100.0   \n",
              "2  When the menace known as the Joker wreaks havo...        84.0   \n",
              "3  The early life and career of Vito Corleone in ...        90.0   \n",
              "4  A jury holdout attempts to prevent a miscarria...        96.0   \n",
              "\n",
              "               Director           Star1           Star2          Star3  \\\n",
              "0        Frank Darabont     Tim Robbins  Morgan Freeman     Bob Gunton   \n",
              "1  Francis Ford Coppola   Marlon Brando       Al Pacino     James Caan   \n",
              "2     Christopher Nolan  Christian Bale    Heath Ledger  Aaron Eckhart   \n",
              "3  Francis Ford Coppola       Al Pacino  Robert De Niro  Robert Duvall   \n",
              "4          Sidney Lumet     Henry Fonda     Lee J. Cobb  Martin Balsam   \n",
              "\n",
              "            Star4  No_of_Votes        Gross  \n",
              "0  William Sadler      2343110   28,341,469  \n",
              "1    Diane Keaton      1620367  134,966,411  \n",
              "2   Michael Caine      2303232  534,858,444  \n",
              "3    Diane Keaton      1129952   57,300,000  \n",
              "4    John Fiedler       689845    4,360,000  "
            ],
            "text/html": [
              "\n",
              "  <div id=\"df-f4fee44b-c158-4fbf-90d6-e429a58d98c8\">\n",
              "    <div class=\"colab-df-container\">\n",
              "      <div>\n",
              "<style scoped>\n",
              "    .dataframe tbody tr th:only-of-type {\n",
              "        vertical-align: middle;\n",
              "    }\n",
              "\n",
              "    .dataframe tbody tr th {\n",
              "        vertical-align: top;\n",
              "    }\n",
              "\n",
              "    .dataframe thead th {\n",
              "        text-align: right;\n",
              "    }\n",
              "</style>\n",
              "<table border=\"1\" class=\"dataframe\">\n",
              "  <thead>\n",
              "    <tr style=\"text-align: right;\">\n",
              "      <th></th>\n",
              "      <th>Poster_Link</th>\n",
              "      <th>Series_Title</th>\n",
              "      <th>Released_Year</th>\n",
              "      <th>Certificate</th>\n",
              "      <th>Runtime</th>\n",
              "      <th>Genre</th>\n",
              "      <th>IMDB_Rating</th>\n",
              "      <th>Overview</th>\n",
              "      <th>Meta_score</th>\n",
              "      <th>Director</th>\n",
              "      <th>Star1</th>\n",
              "      <th>Star2</th>\n",
              "      <th>Star3</th>\n",
              "      <th>Star4</th>\n",
              "      <th>No_of_Votes</th>\n",
              "      <th>Gross</th>\n",
              "    </tr>\n",
              "  </thead>\n",
              "  <tbody>\n",
              "    <tr>\n",
              "      <th>0</th>\n",
              "      <td>https://m.media-amazon.com/images/M/MV5BMDFkYT...</td>\n",
              "      <td>The Shawshank Redemption</td>\n",
              "      <td>1994</td>\n",
              "      <td>A</td>\n",
              "      <td>142 min</td>\n",
              "      <td>Drama</td>\n",
              "      <td>9.3</td>\n",
              "      <td>Two imprisoned men bond over a number of years...</td>\n",
              "      <td>80.0</td>\n",
              "      <td>Frank Darabont</td>\n",
              "      <td>Tim Robbins</td>\n",
              "      <td>Morgan Freeman</td>\n",
              "      <td>Bob Gunton</td>\n",
              "      <td>William Sadler</td>\n",
              "      <td>2343110</td>\n",
              "      <td>28,341,469</td>\n",
              "    </tr>\n",
              "    <tr>\n",
              "      <th>1</th>\n",
              "      <td>https://m.media-amazon.com/images/M/MV5BM2MyNj...</td>\n",
              "      <td>The Godfather</td>\n",
              "      <td>1972</td>\n",
              "      <td>A</td>\n",
              "      <td>175 min</td>\n",
              "      <td>Crime, Drama</td>\n",
              "      <td>9.2</td>\n",
              "      <td>An organized crime dynasty's aging patriarch t...</td>\n",
              "      <td>100.0</td>\n",
              "      <td>Francis Ford Coppola</td>\n",
              "      <td>Marlon Brando</td>\n",
              "      <td>Al Pacino</td>\n",
              "      <td>James Caan</td>\n",
              "      <td>Diane Keaton</td>\n",
              "      <td>1620367</td>\n",
              "      <td>134,966,411</td>\n",
              "    </tr>\n",
              "    <tr>\n",
              "      <th>2</th>\n",
              "      <td>https://m.media-amazon.com/images/M/MV5BMTMxNT...</td>\n",
              "      <td>The Dark Knight</td>\n",
              "      <td>2008</td>\n",
              "      <td>UA</td>\n",
              "      <td>152 min</td>\n",
              "      <td>Action, Crime, Drama</td>\n",
              "      <td>9.0</td>\n",
              "      <td>When the menace known as the Joker wreaks havo...</td>\n",
              "      <td>84.0</td>\n",
              "      <td>Christopher Nolan</td>\n",
              "      <td>Christian Bale</td>\n",
              "      <td>Heath Ledger</td>\n",
              "      <td>Aaron Eckhart</td>\n",
              "      <td>Michael Caine</td>\n",
              "      <td>2303232</td>\n",
              "      <td>534,858,444</td>\n",
              "    </tr>\n",
              "    <tr>\n",
              "      <th>3</th>\n",
              "      <td>https://m.media-amazon.com/images/M/MV5BMWMwMG...</td>\n",
              "      <td>The Godfather: Part II</td>\n",
              "      <td>1974</td>\n",
              "      <td>A</td>\n",
              "      <td>202 min</td>\n",
              "      <td>Crime, Drama</td>\n",
              "      <td>9.0</td>\n",
              "      <td>The early life and career of Vito Corleone in ...</td>\n",
              "      <td>90.0</td>\n",
              "      <td>Francis Ford Coppola</td>\n",
              "      <td>Al Pacino</td>\n",
              "      <td>Robert De Niro</td>\n",
              "      <td>Robert Duvall</td>\n",
              "      <td>Diane Keaton</td>\n",
              "      <td>1129952</td>\n",
              "      <td>57,300,000</td>\n",
              "    </tr>\n",
              "    <tr>\n",
              "      <th>4</th>\n",
              "      <td>https://m.media-amazon.com/images/M/MV5BMWU4N2...</td>\n",
              "      <td>12 Angry Men</td>\n",
              "      <td>1957</td>\n",
              "      <td>U</td>\n",
              "      <td>96 min</td>\n",
              "      <td>Crime, Drama</td>\n",
              "      <td>9.0</td>\n",
              "      <td>A jury holdout attempts to prevent a miscarria...</td>\n",
              "      <td>96.0</td>\n",
              "      <td>Sidney Lumet</td>\n",
              "      <td>Henry Fonda</td>\n",
              "      <td>Lee J. Cobb</td>\n",
              "      <td>Martin Balsam</td>\n",
              "      <td>John Fiedler</td>\n",
              "      <td>689845</td>\n",
              "      <td>4,360,000</td>\n",
              "    </tr>\n",
              "  </tbody>\n",
              "</table>\n",
              "</div>\n",
              "      <button class=\"colab-df-convert\" onclick=\"convertToInteractive('df-f4fee44b-c158-4fbf-90d6-e429a58d98c8')\"\n",
              "              title=\"Convert this dataframe to an interactive table.\"\n",
              "              style=\"display:none;\">\n",
              "        \n",
              "  <svg xmlns=\"http://www.w3.org/2000/svg\" height=\"24px\"viewBox=\"0 0 24 24\"\n",
              "       width=\"24px\">\n",
              "    <path d=\"M0 0h24v24H0V0z\" fill=\"none\"/>\n",
              "    <path d=\"M18.56 5.44l.94 2.06.94-2.06 2.06-.94-2.06-.94-.94-2.06-.94 2.06-2.06.94zm-11 1L8.5 8.5l.94-2.06 2.06-.94-2.06-.94L8.5 2.5l-.94 2.06-2.06.94zm10 10l.94 2.06.94-2.06 2.06-.94-2.06-.94-.94-2.06-.94 2.06-2.06.94z\"/><path d=\"M17.41 7.96l-1.37-1.37c-.4-.4-.92-.59-1.43-.59-.52 0-1.04.2-1.43.59L10.3 9.45l-7.72 7.72c-.78.78-.78 2.05 0 2.83L4 21.41c.39.39.9.59 1.41.59.51 0 1.02-.2 1.41-.59l7.78-7.78 2.81-2.81c.8-.78.8-2.07 0-2.86zM5.41 20L4 18.59l7.72-7.72 1.47 1.35L5.41 20z\"/>\n",
              "  </svg>\n",
              "      </button>\n",
              "      \n",
              "  <style>\n",
              "    .colab-df-container {\n",
              "      display:flex;\n",
              "      flex-wrap:wrap;\n",
              "      gap: 12px;\n",
              "    }\n",
              "\n",
              "    .colab-df-convert {\n",
              "      background-color: #E8F0FE;\n",
              "      border: none;\n",
              "      border-radius: 50%;\n",
              "      cursor: pointer;\n",
              "      display: none;\n",
              "      fill: #1967D2;\n",
              "      height: 32px;\n",
              "      padding: 0 0 0 0;\n",
              "      width: 32px;\n",
              "    }\n",
              "\n",
              "    .colab-df-convert:hover {\n",
              "      background-color: #E2EBFA;\n",
              "      box-shadow: 0px 1px 2px rgba(60, 64, 67, 0.3), 0px 1px 3px 1px rgba(60, 64, 67, 0.15);\n",
              "      fill: #174EA6;\n",
              "    }\n",
              "\n",
              "    [theme=dark] .colab-df-convert {\n",
              "      background-color: #3B4455;\n",
              "      fill: #D2E3FC;\n",
              "    }\n",
              "\n",
              "    [theme=dark] .colab-df-convert:hover {\n",
              "      background-color: #434B5C;\n",
              "      box-shadow: 0px 1px 3px 1px rgba(0, 0, 0, 0.15);\n",
              "      filter: drop-shadow(0px 1px 2px rgba(0, 0, 0, 0.3));\n",
              "      fill: #FFFFFF;\n",
              "    }\n",
              "  </style>\n",
              "\n",
              "      <script>\n",
              "        const buttonEl =\n",
              "          document.querySelector('#df-f4fee44b-c158-4fbf-90d6-e429a58d98c8 button.colab-df-convert');\n",
              "        buttonEl.style.display =\n",
              "          google.colab.kernel.accessAllowed ? 'block' : 'none';\n",
              "\n",
              "        async function convertToInteractive(key) {\n",
              "          const element = document.querySelector('#df-f4fee44b-c158-4fbf-90d6-e429a58d98c8');\n",
              "          const dataTable =\n",
              "            await google.colab.kernel.invokeFunction('convertToInteractive',\n",
              "                                                     [key], {});\n",
              "          if (!dataTable) return;\n",
              "\n",
              "          const docLinkHtml = 'Like what you see? Visit the ' +\n",
              "            '<a target=\"_blank\" href=https://colab.research.google.com/notebooks/data_table.ipynb>data table notebook</a>'\n",
              "            + ' to learn more about interactive tables.';\n",
              "          element.innerHTML = '';\n",
              "          dataTable['output_type'] = 'display_data';\n",
              "          await google.colab.output.renderOutput(dataTable, element);\n",
              "          const docLink = document.createElement('div');\n",
              "          docLink.innerHTML = docLinkHtml;\n",
              "          element.appendChild(docLink);\n",
              "        }\n",
              "      </script>\n",
              "    </div>\n",
              "  </div>\n",
              "  "
            ]
          },
          "metadata": {},
          "execution_count": 152
        }
      ]
    },
    {
      "cell_type": "markdown",
      "source": [
        "### Dataset Variable Description"
      ],
      "metadata": {
        "id": "V_JMxWL-2djx"
      }
    },
    {
      "cell_type": "code",
      "source": [
        "df.info()"
      ],
      "metadata": {
        "colab": {
          "base_uri": "https://localhost:8080/"
        },
        "id": "v6rvMA5DziEh",
        "outputId": "ac4fec16-0b72-42a3-adf2-bd7d2947fde7"
      },
      "execution_count": 153,
      "outputs": [
        {
          "output_type": "stream",
          "name": "stdout",
          "text": [
            "<class 'pandas.core.frame.DataFrame'>\n",
            "RangeIndex: 1000 entries, 0 to 999\n",
            "Data columns (total 16 columns):\n",
            " #   Column         Non-Null Count  Dtype  \n",
            "---  ------         --------------  -----  \n",
            " 0   Poster_Link    1000 non-null   object \n",
            " 1   Series_Title   1000 non-null   object \n",
            " 2   Released_Year  1000 non-null   object \n",
            " 3   Certificate    899 non-null    object \n",
            " 4   Runtime        1000 non-null   object \n",
            " 5   Genre          1000 non-null   object \n",
            " 6   IMDB_Rating    1000 non-null   float64\n",
            " 7   Overview       1000 non-null   object \n",
            " 8   Meta_score     843 non-null    float64\n",
            " 9   Director       1000 non-null   object \n",
            " 10  Star1          1000 non-null   object \n",
            " 11  Star2          1000 non-null   object \n",
            " 12  Star3          1000 non-null   object \n",
            " 13  Star4          1000 non-null   object \n",
            " 14  No_of_Votes    1000 non-null   int64  \n",
            " 15  Gross          831 non-null    object \n",
            "dtypes: float64(2), int64(1), object(13)\n",
            "memory usage: 125.1+ KB\n"
          ]
        }
      ]
    },
    {
      "cell_type": "markdown",
      "source": [
        "### Check Missing Value"
      ],
      "metadata": {
        "id": "x530q60_2xBW"
      }
    },
    {
      "cell_type": "code",
      "source": [
        "df.isna().sum()"
      ],
      "metadata": {
        "colab": {
          "base_uri": "https://localhost:8080/"
        },
        "id": "T68AkYth2iZA",
        "outputId": "a4dee069-8c3f-45e4-d669-1f708168dc30"
      },
      "execution_count": 154,
      "outputs": [
        {
          "output_type": "execute_result",
          "data": {
            "text/plain": [
              "Poster_Link        0\n",
              "Series_Title       0\n",
              "Released_Year      0\n",
              "Certificate      101\n",
              "Runtime            0\n",
              "Genre              0\n",
              "IMDB_Rating        0\n",
              "Overview           0\n",
              "Meta_score       157\n",
              "Director           0\n",
              "Star1              0\n",
              "Star2              0\n",
              "Star3              0\n",
              "Star4              0\n",
              "No_of_Votes        0\n",
              "Gross            169\n",
              "dtype: int64"
            ]
          },
          "metadata": {},
          "execution_count": 154
        }
      ]
    },
    {
      "cell_type": "markdown",
      "source": [
        "### Check the Description of Dataset Statistics"
      ],
      "metadata": {
        "id": "ZbgAILUd-KLW"
      }
    },
    {
      "cell_type": "code",
      "source": [
        "df.describe()"
      ],
      "metadata": {
        "colab": {
          "base_uri": "https://localhost:8080/",
          "height": 300
        },
        "id": "tB88GtSc2z14",
        "outputId": "0fc4a82e-0537-4d15-abcb-15d653d12ec4"
      },
      "execution_count": 155,
      "outputs": [
        {
          "output_type": "execute_result",
          "data": {
            "text/plain": [
              "       IMDB_Rating  Meta_score   No_of_Votes\n",
              "count  1000.000000  843.000000  1.000000e+03\n",
              "mean      7.949300   77.971530  2.736929e+05\n",
              "std       0.275491   12.376099  3.273727e+05\n",
              "min       7.600000   28.000000  2.508800e+04\n",
              "25%       7.700000   70.000000  5.552625e+04\n",
              "50%       7.900000   79.000000  1.385485e+05\n",
              "75%       8.100000   87.000000  3.741612e+05\n",
              "max       9.300000  100.000000  2.343110e+06"
            ],
            "text/html": [
              "\n",
              "  <div id=\"df-a537a6c1-7dfa-4578-9c8c-f3defe269768\">\n",
              "    <div class=\"colab-df-container\">\n",
              "      <div>\n",
              "<style scoped>\n",
              "    .dataframe tbody tr th:only-of-type {\n",
              "        vertical-align: middle;\n",
              "    }\n",
              "\n",
              "    .dataframe tbody tr th {\n",
              "        vertical-align: top;\n",
              "    }\n",
              "\n",
              "    .dataframe thead th {\n",
              "        text-align: right;\n",
              "    }\n",
              "</style>\n",
              "<table border=\"1\" class=\"dataframe\">\n",
              "  <thead>\n",
              "    <tr style=\"text-align: right;\">\n",
              "      <th></th>\n",
              "      <th>IMDB_Rating</th>\n",
              "      <th>Meta_score</th>\n",
              "      <th>No_of_Votes</th>\n",
              "    </tr>\n",
              "  </thead>\n",
              "  <tbody>\n",
              "    <tr>\n",
              "      <th>count</th>\n",
              "      <td>1000.000000</td>\n",
              "      <td>843.000000</td>\n",
              "      <td>1.000000e+03</td>\n",
              "    </tr>\n",
              "    <tr>\n",
              "      <th>mean</th>\n",
              "      <td>7.949300</td>\n",
              "      <td>77.971530</td>\n",
              "      <td>2.736929e+05</td>\n",
              "    </tr>\n",
              "    <tr>\n",
              "      <th>std</th>\n",
              "      <td>0.275491</td>\n",
              "      <td>12.376099</td>\n",
              "      <td>3.273727e+05</td>\n",
              "    </tr>\n",
              "    <tr>\n",
              "      <th>min</th>\n",
              "      <td>7.600000</td>\n",
              "      <td>28.000000</td>\n",
              "      <td>2.508800e+04</td>\n",
              "    </tr>\n",
              "    <tr>\n",
              "      <th>25%</th>\n",
              "      <td>7.700000</td>\n",
              "      <td>70.000000</td>\n",
              "      <td>5.552625e+04</td>\n",
              "    </tr>\n",
              "    <tr>\n",
              "      <th>50%</th>\n",
              "      <td>7.900000</td>\n",
              "      <td>79.000000</td>\n",
              "      <td>1.385485e+05</td>\n",
              "    </tr>\n",
              "    <tr>\n",
              "      <th>75%</th>\n",
              "      <td>8.100000</td>\n",
              "      <td>87.000000</td>\n",
              "      <td>3.741612e+05</td>\n",
              "    </tr>\n",
              "    <tr>\n",
              "      <th>max</th>\n",
              "      <td>9.300000</td>\n",
              "      <td>100.000000</td>\n",
              "      <td>2.343110e+06</td>\n",
              "    </tr>\n",
              "  </tbody>\n",
              "</table>\n",
              "</div>\n",
              "      <button class=\"colab-df-convert\" onclick=\"convertToInteractive('df-a537a6c1-7dfa-4578-9c8c-f3defe269768')\"\n",
              "              title=\"Convert this dataframe to an interactive table.\"\n",
              "              style=\"display:none;\">\n",
              "        \n",
              "  <svg xmlns=\"http://www.w3.org/2000/svg\" height=\"24px\"viewBox=\"0 0 24 24\"\n",
              "       width=\"24px\">\n",
              "    <path d=\"M0 0h24v24H0V0z\" fill=\"none\"/>\n",
              "    <path d=\"M18.56 5.44l.94 2.06.94-2.06 2.06-.94-2.06-.94-.94-2.06-.94 2.06-2.06.94zm-11 1L8.5 8.5l.94-2.06 2.06-.94-2.06-.94L8.5 2.5l-.94 2.06-2.06.94zm10 10l.94 2.06.94-2.06 2.06-.94-2.06-.94-.94-2.06-.94 2.06-2.06.94z\"/><path d=\"M17.41 7.96l-1.37-1.37c-.4-.4-.92-.59-1.43-.59-.52 0-1.04.2-1.43.59L10.3 9.45l-7.72 7.72c-.78.78-.78 2.05 0 2.83L4 21.41c.39.39.9.59 1.41.59.51 0 1.02-.2 1.41-.59l7.78-7.78 2.81-2.81c.8-.78.8-2.07 0-2.86zM5.41 20L4 18.59l7.72-7.72 1.47 1.35L5.41 20z\"/>\n",
              "  </svg>\n",
              "      </button>\n",
              "      \n",
              "  <style>\n",
              "    .colab-df-container {\n",
              "      display:flex;\n",
              "      flex-wrap:wrap;\n",
              "      gap: 12px;\n",
              "    }\n",
              "\n",
              "    .colab-df-convert {\n",
              "      background-color: #E8F0FE;\n",
              "      border: none;\n",
              "      border-radius: 50%;\n",
              "      cursor: pointer;\n",
              "      display: none;\n",
              "      fill: #1967D2;\n",
              "      height: 32px;\n",
              "      padding: 0 0 0 0;\n",
              "      width: 32px;\n",
              "    }\n",
              "\n",
              "    .colab-df-convert:hover {\n",
              "      background-color: #E2EBFA;\n",
              "      box-shadow: 0px 1px 2px rgba(60, 64, 67, 0.3), 0px 1px 3px 1px rgba(60, 64, 67, 0.15);\n",
              "      fill: #174EA6;\n",
              "    }\n",
              "\n",
              "    [theme=dark] .colab-df-convert {\n",
              "      background-color: #3B4455;\n",
              "      fill: #D2E3FC;\n",
              "    }\n",
              "\n",
              "    [theme=dark] .colab-df-convert:hover {\n",
              "      background-color: #434B5C;\n",
              "      box-shadow: 0px 1px 3px 1px rgba(0, 0, 0, 0.15);\n",
              "      filter: drop-shadow(0px 1px 2px rgba(0, 0, 0, 0.3));\n",
              "      fill: #FFFFFF;\n",
              "    }\n",
              "  </style>\n",
              "\n",
              "      <script>\n",
              "        const buttonEl =\n",
              "          document.querySelector('#df-a537a6c1-7dfa-4578-9c8c-f3defe269768 button.colab-df-convert');\n",
              "        buttonEl.style.display =\n",
              "          google.colab.kernel.accessAllowed ? 'block' : 'none';\n",
              "\n",
              "        async function convertToInteractive(key) {\n",
              "          const element = document.querySelector('#df-a537a6c1-7dfa-4578-9c8c-f3defe269768');\n",
              "          const dataTable =\n",
              "            await google.colab.kernel.invokeFunction('convertToInteractive',\n",
              "                                                     [key], {});\n",
              "          if (!dataTable) return;\n",
              "\n",
              "          const docLinkHtml = 'Like what you see? Visit the ' +\n",
              "            '<a target=\"_blank\" href=https://colab.research.google.com/notebooks/data_table.ipynb>data table notebook</a>'\n",
              "            + ' to learn more about interactive tables.';\n",
              "          element.innerHTML = '';\n",
              "          dataTable['output_type'] = 'display_data';\n",
              "          await google.colab.output.renderOutput(dataTable, element);\n",
              "          const docLink = document.createElement('div');\n",
              "          docLink.innerHTML = docLinkHtml;\n",
              "          element.appendChild(docLink);\n",
              "        }\n",
              "      </script>\n",
              "    </div>\n",
              "  </div>\n",
              "  "
            ]
          },
          "metadata": {},
          "execution_count": 155
        }
      ]
    },
    {
      "cell_type": "markdown",
      "source": [
        "## Data Preparation"
      ],
      "metadata": {
        "id": "SI17R4U4-vpc"
      }
    },
    {
      "cell_type": "markdown",
      "source": [
        "### Pembersihan data pada setiap kolom\n"
      ],
      "metadata": {
        "id": "RtY0pIaUZVXA"
      }
    },
    {
      "cell_type": "markdown",
      "source": [
        "#### Kolom Rating"
      ],
      "metadata": {
        "id": "h7B2ukd_ZbO-"
      }
    },
    {
      "cell_type": "markdown",
      "source": [
        "Pada dataset ini rating terdapat pada 2 kolom yaitu IMDB_Rating dan Meta_score. Berdasarkan informasi IMDB data pada kolom IMDB_Rating adalah sebuah rating dari film berdasarkan rata\" dari hasil voting, sedangkan pada kolom Meta_score adalah skor diberikan untuk ulasan film dari sekelompok besar kritikus paling dihormati di dunia."
      ],
      "metadata": {
        "id": "vYKZrV4zbm56"
      }
    },
    {
      "cell_type": "markdown",
      "source": [
        "##### Kolom IMDB_Rating"
      ],
      "metadata": {
        "id": "w8vDHqCAebtt"
      }
    },
    {
      "cell_type": "code",
      "source": [
        "print('Jumlah data kosong pada kolom IMDB_Rating: ',df.IMDB_Rating.isnull().sum())\n",
        "print('Jumlah data pada kolom IMDB_Rating: ', len(df.IMDB_Rating))\n",
        "print('Data unik pada kolom IMDB_Rating:\\n', df.IMDB_Rating.unique().tolist())\n"
      ],
      "metadata": {
        "colab": {
          "base_uri": "https://localhost:8080/"
        },
        "id": "ojF27R5I-RBA",
        "outputId": "c1f52675-360f-486b-c99f-37e22c7f8652"
      },
      "execution_count": 156,
      "outputs": [
        {
          "output_type": "stream",
          "name": "stdout",
          "text": [
            "Jumlah data kosong pada kolom IMDB_Rating:  0\n",
            "Jumlah data pada kolom IMDB_Rating:  1000\n",
            "Data unik pada kolom IMDB_Rating:\n",
            " [9.3, 9.2, 9.0, 8.9, 8.8, 8.7, 8.6, 8.5, 8.4, 8.3, 8.2, 8.1, 8.0, 7.9, 7.8, 7.7, 7.6]\n"
          ]
        }
      ]
    },
    {
      "cell_type": "markdown",
      "source": [
        "##### Kolom Meta_score"
      ],
      "metadata": {
        "id": "WL8_oQoZhqCy"
      }
    },
    {
      "cell_type": "code",
      "source": [
        "print('Jumlah data kosong pada kolom Meta_score: ',df.Meta_score.isnull().sum())\n",
        "print('Jumlah data pada kolom Meta_score: ', len(df.Meta_score))\n",
        "print('Data unik pada kolom Meta_score:\\n', df.Meta_score.unique())"
      ],
      "metadata": {
        "colab": {
          "base_uri": "https://localhost:8080/"
        },
        "id": "Vqa5-0BZZpXZ",
        "outputId": "957fba35-b7f5-4d7d-ad03-19b6f7c89f44"
      },
      "execution_count": 157,
      "outputs": [
        {
          "output_type": "stream",
          "name": "stdout",
          "text": [
            "Jumlah data kosong pada kolom Meta_score:  157\n",
            "Jumlah data pada kolom Meta_score:  1000\n",
            "Data unik pada kolom Meta_score:\n",
            " [ 80. 100.  84.  90.  96.  94.  74.  66.  92.  82.  87.  73.  83.  nan\n",
            "  79.  91.  61.  59.  65.  85.  98.  89.  88.  57.  67.  62.  77.  64.\n",
            "  75.  97.  99.  78.  68.  81.  95.  76.  69.  55.  70.  58.  86.  71.\n",
            "  63.  93.  72.  60.  47.  49.  50.  33.  54.  56.  51.  53.  48.  44.\n",
            "  45.  40.  52.  28.  36.  46.  30.  41.]\n"
          ]
        }
      ]
    },
    {
      "cell_type": "markdown",
      "source": [
        "Data Meta_score terdapat nilai yang hilang atau kosong berbeda dengan IMDB_Rating yang memiliki data yang rapih. Pada data ini akan dilakukan pengisian data dengan menggunakan KNNImputer untuk mengatasi data yang hilang dengan cara ini, distribusi data Meta_score akan tetap terjaga pada dikarenakan metode ini akan melakukan pengisian sesuai dengan nilai terdekat."
      ],
      "metadata": {
        "id": "3bpfIwXQiExC"
      }
    },
    {
      "cell_type": "code",
      "source": [
        "# Inisialisasi KNNImputer dengan parameter n_neighbors = 50 untuk melakukan pengisian berdasarkan 50 tetangga terdekat\n",
        "imputer = KNNImputer(n_neighbors=50)\n",
        "# Melakukan imputasi pada nilai NaN\n",
        "df['Meta_score'] = imputer.fit_transform(df[['Meta_score']]).ravel()\n",
        "# Melakukan pembulatan data pada hasil KNNImputer\n",
        "df['Meta_score'] = df['Meta_score'].round(decimals=1)\n",
        "\n",
        "\n",
        "print('Cek jumlah data kosong setelah dilakukan pengisian pada kolom Meta_score: ',df.Meta_score.isnull().sum())"
      ],
      "metadata": {
        "colab": {
          "base_uri": "https://localhost:8080/"
        },
        "id": "1vrSkm6QhxHs",
        "outputId": "0ccd6b1f-9c40-4fb5-ec81-4ac7d7d0f838"
      },
      "execution_count": 158,
      "outputs": [
        {
          "output_type": "stream",
          "name": "stdout",
          "text": [
            "Cek jumlah data kosong setelah dilakukan pengisian pada kolom Meta_score:  0\n"
          ]
        }
      ]
    },
    {
      "cell_type": "markdown",
      "source": [
        "#### Kolom Runtime"
      ],
      "metadata": {
        "id": "_SDZHuf1kNLN"
      }
    },
    {
      "cell_type": "code",
      "source": [
        "print('Jumlah data kosong pada kolom Runtime: ',df.Runtime.isnull().sum())\n",
        "print('Jumlah data pada kolom Runtime: ', len(df.Runtime))\n",
        "print('Data unik pada kolom Runtime:\\n', df.Runtime.unique())"
      ],
      "metadata": {
        "colab": {
          "base_uri": "https://localhost:8080/"
        },
        "id": "IJt5OH4cjuJJ",
        "outputId": "dcf2c334-e99f-44d5-824e-99d16525b8a3"
      },
      "execution_count": 159,
      "outputs": [
        {
          "output_type": "stream",
          "name": "stdout",
          "text": [
            "Jumlah data kosong pada kolom Runtime:  0\n",
            "Jumlah data pada kolom Runtime:  1000\n",
            "Data unik pada kolom Runtime:\n",
            " ['142 min' '175 min' '152 min' '202 min' '96 min' '201 min' '154 min'\n",
            " '195 min' '148 min' '139 min' '178 min' '161 min' '179 min' '136 min'\n",
            " '146 min' '124 min' '133 min' '160 min' '132 min' '153 min' '169 min'\n",
            " '130 min' '125 min' '189 min' '116 min' '127 min' '118 min' '121 min'\n",
            " '207 min' '122 min' '106 min' '112 min' '151 min' '150 min' '155 min'\n",
            " '119 min' '110 min' '88 min' '137 min' '89 min' '165 min' '109 min'\n",
            " '102 min' '87 min' '126 min' '147 min' '117 min' '181 min' '149 min'\n",
            " '105 min' '164 min' '170 min' '98 min' '101 min' '113 min' '134 min'\n",
            " '229 min' '115 min' '143 min' '95 min' '104 min' '123 min' '131 min'\n",
            " '108 min' '81 min' '99 min' '114 min' '129 min' '228 min' '128 min'\n",
            " '103 min' '107 min' '68 min' '138 min' '156 min' '167 min' '163 min'\n",
            " '186 min' '321 min' '135 min' '140 min' '180 min' '158 min' '210 min'\n",
            " '86 min' '162 min' '177 min' '204 min' '91 min' '172 min' '45 min'\n",
            " '145 min' '100 min' '196 min' '93 min' '120 min' '92 min' '144 min'\n",
            " '80 min' '183 min' '111 min' '141 min' '224 min' '171 min' '188 min'\n",
            " '94 min' '185 min' '85 min' '205 min' '212 min' '238 min' '72 min'\n",
            " '67 min' '76 min' '159 min' '83 min' '90 min' '84 min' '191 min'\n",
            " '197 min' '174 min' '97 min' '75 min' '157 min' '209 min' '82 min'\n",
            " '220 min' '64 min' '184 min' '168 min' '166 min' '192 min' '194 min'\n",
            " '193 min' '69 min' '70 min' '242 min' '79 min' '71 min' '78 min']\n"
          ]
        }
      ]
    },
    {
      "cell_type": "markdown",
      "source": [
        "pada kolom runtime tidak terdapat nilai yang kosong melainkan data tersebut masih dalam bentuk object string sehingga perlu dilakukan konversi data. disini yang dilakukan adalah menghapus nilai min dikarenakan data tersebut dalam bentuk menit."
      ],
      "metadata": {
        "id": "7WX0jISjlLMM"
      }
    },
    {
      "cell_type": "code",
      "source": [
        "# Mengganti nilai pada kolom runtime\n",
        "df['Runtime']= df['Runtime'].str.replace('min','')\n",
        "# Mengganti tipe data kolom runtime\n",
        "df['Runtime'] = df['Runtime'].astype('float')"
      ],
      "metadata": {
        "id": "-XZoBQD9kSl2"
      },
      "execution_count": 160,
      "outputs": []
    },
    {
      "cell_type": "code",
      "source": [
        "df['Runtime']"
      ],
      "metadata": {
        "colab": {
          "base_uri": "https://localhost:8080/"
        },
        "id": "AlQ0RgaPl7Tc",
        "outputId": "8f67eb39-01bd-41b9-a428-59b95a7a4cf4"
      },
      "execution_count": 161,
      "outputs": [
        {
          "output_type": "execute_result",
          "data": {
            "text/plain": [
              "0      142.0\n",
              "1      175.0\n",
              "2      152.0\n",
              "3      202.0\n",
              "4       96.0\n",
              "       ...  \n",
              "995    115.0\n",
              "996    201.0\n",
              "997    118.0\n",
              "998     97.0\n",
              "999     86.0\n",
              "Name: Runtime, Length: 1000, dtype: float64"
            ]
          },
          "metadata": {},
          "execution_count": 161
        }
      ]
    },
    {
      "cell_type": "markdown",
      "source": [
        "#### Kolom Released_Year"
      ],
      "metadata": {
        "id": "LASEMSAVS26K"
      }
    },
    {
      "cell_type": "code",
      "source": [
        "print('Jumlah data kosong pada kolom Certificate: ',df.Released_Year.isnull().sum())\n",
        "print('Jumlah data pada kolom Certificate: ', len(df.Released_Year))\n",
        "print('Data unik pada kolom Certificate:\\n', df.Released_Year.unique())"
      ],
      "metadata": {
        "colab": {
          "base_uri": "https://localhost:8080/"
        },
        "id": "Zl6jl1k_S-JD",
        "outputId": "00652420-b05e-499e-def9-9272fb8a9156"
      },
      "execution_count": 162,
      "outputs": [
        {
          "output_type": "stream",
          "name": "stdout",
          "text": [
            "Jumlah data kosong pada kolom Certificate:  0\n",
            "Jumlah data pada kolom Certificate:  1000\n",
            "Data unik pada kolom Certificate:\n",
            " ['1994' '1972' '2008' '1974' '1957' '2003' '1993' '2010' '1999' '2001'\n",
            " '1966' '2002' '1990' '1980' '1975' '2020' '2019' '2014' '1998' '1997'\n",
            " '1995' '1991' '1977' '1962' '1954' '1946' '2011' '2006' '2000' '1988'\n",
            " '1985' '1968' '1960' '1942' '1936' '1931' '2018' '2017' '2016' '2012'\n",
            " '2009' '2007' '1984' '1981' '1979' '1971' '1963' '1964' '1950' '1940'\n",
            " '2013' '2005' '2004' '1992' '1987' '1986' '1983' '1976' '1973' '1965'\n",
            " '1959' '1958' '1952' '1948' '1944' '1941' '1927' '1921' '2015' '1996'\n",
            " '1989' '1978' '1961' '1955' '1953' '1925' '1924' '1982' '1967' '1951'\n",
            " '1949' '1939' '1937' '1934' '1928' '1926' '1920' '1970' '1969' '1956'\n",
            " '1947' '1945' '1930' '1938' '1935' '1933' '1932' '1922' '1943' 'PG']\n"
          ]
        }
      ]
    },
    {
      "cell_type": "markdown",
      "source": [
        "dapat dilihat pada data tahun rilis terdapat data dengan tahun rilis PG dan dilakukan analisis lebih lanjut pada dapat tersebut."
      ],
      "metadata": {
        "id": "5ii7uT2ZTTGj"
      }
    },
    {
      "cell_type": "code",
      "source": [
        "df.loc[df.Released_Year == 'PG']"
      ],
      "metadata": {
        "colab": {
          "base_uri": "https://localhost:8080/",
          "height": 249
        },
        "id": "nFK1vvCUTGu6",
        "outputId": "c30c6107-ac5c-4716-e547-76c9ec5d5155"
      },
      "execution_count": 163,
      "outputs": [
        {
          "output_type": "execute_result",
          "data": {
            "text/plain": [
              "                                           Poster_Link Series_Title  \\\n",
              "966  https://m.media-amazon.com/images/M/MV5BNjEzYj...    Apollo 13   \n",
              "\n",
              "    Released_Year Certificate  Runtime                      Genre  \\\n",
              "966            PG           U    140.0  Adventure, Drama, History   \n",
              "\n",
              "     IMDB_Rating                                           Overview  \\\n",
              "966          7.6  NASA must devise a strategy to return Apollo 1...   \n",
              "\n",
              "     Meta_score    Director      Star1        Star2        Star3        Star4  \\\n",
              "966        77.0  Ron Howard  Tom Hanks  Bill Paxton  Kevin Bacon  Gary Sinise   \n",
              "\n",
              "     No_of_Votes        Gross  \n",
              "966       269197  173,837,933  "
            ],
            "text/html": [
              "\n",
              "  <div id=\"df-493a445b-3f47-4d79-8dc1-231d7ff38f1e\">\n",
              "    <div class=\"colab-df-container\">\n",
              "      <div>\n",
              "<style scoped>\n",
              "    .dataframe tbody tr th:only-of-type {\n",
              "        vertical-align: middle;\n",
              "    }\n",
              "\n",
              "    .dataframe tbody tr th {\n",
              "        vertical-align: top;\n",
              "    }\n",
              "\n",
              "    .dataframe thead th {\n",
              "        text-align: right;\n",
              "    }\n",
              "</style>\n",
              "<table border=\"1\" class=\"dataframe\">\n",
              "  <thead>\n",
              "    <tr style=\"text-align: right;\">\n",
              "      <th></th>\n",
              "      <th>Poster_Link</th>\n",
              "      <th>Series_Title</th>\n",
              "      <th>Released_Year</th>\n",
              "      <th>Certificate</th>\n",
              "      <th>Runtime</th>\n",
              "      <th>Genre</th>\n",
              "      <th>IMDB_Rating</th>\n",
              "      <th>Overview</th>\n",
              "      <th>Meta_score</th>\n",
              "      <th>Director</th>\n",
              "      <th>Star1</th>\n",
              "      <th>Star2</th>\n",
              "      <th>Star3</th>\n",
              "      <th>Star4</th>\n",
              "      <th>No_of_Votes</th>\n",
              "      <th>Gross</th>\n",
              "    </tr>\n",
              "  </thead>\n",
              "  <tbody>\n",
              "    <tr>\n",
              "      <th>966</th>\n",
              "      <td>https://m.media-amazon.com/images/M/MV5BNjEzYj...</td>\n",
              "      <td>Apollo 13</td>\n",
              "      <td>PG</td>\n",
              "      <td>U</td>\n",
              "      <td>140.0</td>\n",
              "      <td>Adventure, Drama, History</td>\n",
              "      <td>7.6</td>\n",
              "      <td>NASA must devise a strategy to return Apollo 1...</td>\n",
              "      <td>77.0</td>\n",
              "      <td>Ron Howard</td>\n",
              "      <td>Tom Hanks</td>\n",
              "      <td>Bill Paxton</td>\n",
              "      <td>Kevin Bacon</td>\n",
              "      <td>Gary Sinise</td>\n",
              "      <td>269197</td>\n",
              "      <td>173,837,933</td>\n",
              "    </tr>\n",
              "  </tbody>\n",
              "</table>\n",
              "</div>\n",
              "      <button class=\"colab-df-convert\" onclick=\"convertToInteractive('df-493a445b-3f47-4d79-8dc1-231d7ff38f1e')\"\n",
              "              title=\"Convert this dataframe to an interactive table.\"\n",
              "              style=\"display:none;\">\n",
              "        \n",
              "  <svg xmlns=\"http://www.w3.org/2000/svg\" height=\"24px\"viewBox=\"0 0 24 24\"\n",
              "       width=\"24px\">\n",
              "    <path d=\"M0 0h24v24H0V0z\" fill=\"none\"/>\n",
              "    <path d=\"M18.56 5.44l.94 2.06.94-2.06 2.06-.94-2.06-.94-.94-2.06-.94 2.06-2.06.94zm-11 1L8.5 8.5l.94-2.06 2.06-.94-2.06-.94L8.5 2.5l-.94 2.06-2.06.94zm10 10l.94 2.06.94-2.06 2.06-.94-2.06-.94-.94-2.06-.94 2.06-2.06.94z\"/><path d=\"M17.41 7.96l-1.37-1.37c-.4-.4-.92-.59-1.43-.59-.52 0-1.04.2-1.43.59L10.3 9.45l-7.72 7.72c-.78.78-.78 2.05 0 2.83L4 21.41c.39.39.9.59 1.41.59.51 0 1.02-.2 1.41-.59l7.78-7.78 2.81-2.81c.8-.78.8-2.07 0-2.86zM5.41 20L4 18.59l7.72-7.72 1.47 1.35L5.41 20z\"/>\n",
              "  </svg>\n",
              "      </button>\n",
              "      \n",
              "  <style>\n",
              "    .colab-df-container {\n",
              "      display:flex;\n",
              "      flex-wrap:wrap;\n",
              "      gap: 12px;\n",
              "    }\n",
              "\n",
              "    .colab-df-convert {\n",
              "      background-color: #E8F0FE;\n",
              "      border: none;\n",
              "      border-radius: 50%;\n",
              "      cursor: pointer;\n",
              "      display: none;\n",
              "      fill: #1967D2;\n",
              "      height: 32px;\n",
              "      padding: 0 0 0 0;\n",
              "      width: 32px;\n",
              "    }\n",
              "\n",
              "    .colab-df-convert:hover {\n",
              "      background-color: #E2EBFA;\n",
              "      box-shadow: 0px 1px 2px rgba(60, 64, 67, 0.3), 0px 1px 3px 1px rgba(60, 64, 67, 0.15);\n",
              "      fill: #174EA6;\n",
              "    }\n",
              "\n",
              "    [theme=dark] .colab-df-convert {\n",
              "      background-color: #3B4455;\n",
              "      fill: #D2E3FC;\n",
              "    }\n",
              "\n",
              "    [theme=dark] .colab-df-convert:hover {\n",
              "      background-color: #434B5C;\n",
              "      box-shadow: 0px 1px 3px 1px rgba(0, 0, 0, 0.15);\n",
              "      filter: drop-shadow(0px 1px 2px rgba(0, 0, 0, 0.3));\n",
              "      fill: #FFFFFF;\n",
              "    }\n",
              "  </style>\n",
              "\n",
              "      <script>\n",
              "        const buttonEl =\n",
              "          document.querySelector('#df-493a445b-3f47-4d79-8dc1-231d7ff38f1e button.colab-df-convert');\n",
              "        buttonEl.style.display =\n",
              "          google.colab.kernel.accessAllowed ? 'block' : 'none';\n",
              "\n",
              "        async function convertToInteractive(key) {\n",
              "          const element = document.querySelector('#df-493a445b-3f47-4d79-8dc1-231d7ff38f1e');\n",
              "          const dataTable =\n",
              "            await google.colab.kernel.invokeFunction('convertToInteractive',\n",
              "                                                     [key], {});\n",
              "          if (!dataTable) return;\n",
              "\n",
              "          const docLinkHtml = 'Like what you see? Visit the ' +\n",
              "            '<a target=\"_blank\" href=https://colab.research.google.com/notebooks/data_table.ipynb>data table notebook</a>'\n",
              "            + ' to learn more about interactive tables.';\n",
              "          element.innerHTML = '';\n",
              "          dataTable['output_type'] = 'display_data';\n",
              "          await google.colab.output.renderOutput(dataTable, element);\n",
              "          const docLink = document.createElement('div');\n",
              "          docLink.innerHTML = docLinkHtml;\n",
              "          element.appendChild(docLink);\n",
              "        }\n",
              "      </script>\n",
              "    </div>\n",
              "  </div>\n",
              "  "
            ]
          },
          "metadata": {},
          "execution_count": 163
        }
      ]
    },
    {
      "cell_type": "markdown",
      "source": [
        "Terdapat 1 data dengan tahun rilis PG pada dapat tersebut dilakukan pengapusan dikarenakan data tersebut hanya 1 sehingga tidak terlalu berpengaruh."
      ],
      "metadata": {
        "id": "4UgidhAZTnmM"
      }
    },
    {
      "cell_type": "code",
      "source": [
        "# Menghapus data Released_Year == PG\n",
        "df.drop(df.loc[df.Released_Year == 'PG'].index, inplace=True)\n",
        "\n",
        "# Melakukan konversi data dengan tipe data int\n",
        "df['Released_Year'] = df['Released_Year'].astype('int')"
      ],
      "metadata": {
        "id": "6_2hLRgFTk6q"
      },
      "execution_count": 164,
      "outputs": []
    },
    {
      "cell_type": "markdown",
      "source": [
        "#### Kolom Certificate"
      ],
      "metadata": {
        "id": "TIPBzBwBnT-i"
      }
    },
    {
      "cell_type": "code",
      "source": [
        "print('Jumlah data kosong pada kolom Certificate: ',df.Certificate.isnull().sum())\n",
        "print('Jumlah data pada kolom Certificate: ', len(df.Certificate))\n",
        "print('Data unik pada kolom Certificate:\\n', df.Certificate.unique())"
      ],
      "metadata": {
        "colab": {
          "base_uri": "https://localhost:8080/"
        },
        "id": "NC1YAMaXl9I6",
        "outputId": "908a3e36-ab5f-4c86-b579-06605af8e9b7"
      },
      "execution_count": 165,
      "outputs": [
        {
          "output_type": "stream",
          "name": "stdout",
          "text": [
            "Jumlah data kosong pada kolom Certificate:  101\n",
            "Jumlah data pada kolom Certificate:  999\n",
            "Data unik pada kolom Certificate:\n",
            " ['A' 'UA' 'U' 'PG-13' 'R' nan 'PG' 'G' 'Passed' 'TV-14' '16' 'TV-MA'\n",
            " 'Unrated' 'GP' 'Approved' 'TV-PG' 'U/A']\n"
          ]
        }
      ]
    },
    {
      "cell_type": "markdown",
      "source": [
        "Dapat dilihat pada kolom Certificate memiliki data yang kosong dengan jumlah 101 data, dan pada data unik terdapat data unrated yang berarti data terdapat beberapa film yang tidak memiliki Certificate sehingga pada data yang kosong bisa kita isi dengan unrated."
      ],
      "metadata": {
        "id": "ChhTvTkvtMhS"
      }
    },
    {
      "cell_type": "code",
      "source": [
        "df['Certificate'].fillna('Unrated', inplace = True)"
      ],
      "metadata": {
        "id": "gtvOAOUXs9T3"
      },
      "execution_count": 166,
      "outputs": []
    },
    {
      "cell_type": "markdown",
      "source": [
        "### Pembersihan data duplikasi"
      ],
      "metadata": {
        "id": "bXK-INMOuhhh"
      }
    },
    {
      "cell_type": "code",
      "source": [
        "print('Cek jumlah data duplikat pada dataset: ', df.duplicated().sum())\n",
        "print('\\n\\n')\n",
        "df.info()"
      ],
      "metadata": {
        "colab": {
          "base_uri": "https://localhost:8080/"
        },
        "id": "DI54euRFuCIO",
        "outputId": "f51fedd3-c26b-4811-dba9-17843449dde1"
      },
      "execution_count": 167,
      "outputs": [
        {
          "output_type": "stream",
          "name": "stdout",
          "text": [
            "Cek jumlah data duplikat pada dataset:  0\n",
            "\n",
            "\n",
            "\n",
            "<class 'pandas.core.frame.DataFrame'>\n",
            "Int64Index: 999 entries, 0 to 999\n",
            "Data columns (total 16 columns):\n",
            " #   Column         Non-Null Count  Dtype  \n",
            "---  ------         --------------  -----  \n",
            " 0   Poster_Link    999 non-null    object \n",
            " 1   Series_Title   999 non-null    object \n",
            " 2   Released_Year  999 non-null    int64  \n",
            " 3   Certificate    999 non-null    object \n",
            " 4   Runtime        999 non-null    float64\n",
            " 5   Genre          999 non-null    object \n",
            " 6   IMDB_Rating    999 non-null    float64\n",
            " 7   Overview       999 non-null    object \n",
            " 8   Meta_score     999 non-null    float64\n",
            " 9   Director       999 non-null    object \n",
            " 10  Star1          999 non-null    object \n",
            " 11  Star2          999 non-null    object \n",
            " 12  Star3          999 non-null    object \n",
            " 13  Star4          999 non-null    object \n",
            " 14  No_of_Votes    999 non-null    int64  \n",
            " 15  Gross          830 non-null    object \n",
            "dtypes: float64(3), int64(2), object(11)\n",
            "memory usage: 132.7+ KB\n"
          ]
        }
      ]
    },
    {
      "cell_type": "markdown",
      "source": [
        "Dapat dilihat informasi data setelah dilakukan pengisian data pada beberapa komlom yang memiliki data kosong. pada kolom gross data tersebut tidak dilakukan pengisian dikarenakan data tersebut adalah data produksi dari film tersebut sehingga tidak terlalu berpengauh dan dapat dilakukan penghapusan."
      ],
      "metadata": {
        "id": "qIOzf-HIv1xn"
      }
    },
    {
      "cell_type": "markdown",
      "source": [
        "### Univariate Analysis"
      ],
      "metadata": {
        "id": "LNNX8c3q0HWz"
      }
    },
    {
      "cell_type": "code",
      "source": [
        "numerical_features = ['Runtime', 'IMDB_Rating', 'Meta_score', 'No_of_Votes']\n",
        "categorical_features = ['Certificate']"
      ],
      "metadata": {
        "id": "cqo2cpzhvYB-"
      },
      "execution_count": 168,
      "outputs": []
    },
    {
      "cell_type": "code",
      "source": [
        "df[categorical_features].value_counts().plot(kind='bar', rot=60)"
      ],
      "metadata": {
        "colab": {
          "base_uri": "https://localhost:8080/",
          "height": 342
        },
        "id": "N_uP6ffi0N8Q",
        "outputId": "307cb887-ade4-47ca-e899-4a7d7eb66989"
      },
      "execution_count": 169,
      "outputs": [
        {
          "output_type": "execute_result",
          "data": {
            "text/plain": [
              "<matplotlib.axes._subplots.AxesSubplot at 0x7f34bcd5e550>"
            ]
          },
          "metadata": {},
          "execution_count": 169
        },
        {
          "output_type": "display_data",
          "data": {
            "text/plain": [
              "<Figure size 432x288 with 1 Axes>"
            ],
            "image/png": "[encoded data removed]"
          },
          "metadata": {
            "needs_background": "light"
          }
        }
      ]
    },
    {
      "cell_type": "markdown",
      "source": [
        "Pada tampilanvisualisasi data diatas dapat dilihat bawah distribusi kategori pada kolom Certificate memiliki distribusi data dengan kategori U berada pada rentang nilai 200, kategori A diretang 150-190, kategori UA berada pada rentang 150-180, dan seterusnya."
      ],
      "metadata": {
        "id": "YudflAno54wa"
      }
    },
    {
      "cell_type": "code",
      "source": [
        "fig = df[numerical_features].hist(bins=50, figsize=(16,8))\n",
        "[x.ticklabel_format(useOffset=False, style='plain') for x in fig.ravel()]"
      ],
      "metadata": {
        "colab": {
          "base_uri": "https://localhost:8080/",
          "height": 516
        },
        "id": "IBBNvJ1iAeKs",
        "outputId": "047f4411-82c1-4fc7-8479-5bd6087e9ecb"
      },
      "execution_count": 170,
      "outputs": [
        {
          "output_type": "execute_result",
          "data": {
            "text/plain": [
              "[None, None, None, None]"
            ]
          },
          "metadata": {},
          "execution_count": 170
        },
        {
          "output_type": "display_data",
          "data": {
            "text/plain": [
              "<Figure size 1152x576 with 4 Axes>"
            ],
            "image/png": "[encoded data removed]"
          },
          "metadata": {
            "needs_background": "light"
          }
        }
      ]
    },
    {
      "cell_type": "markdown",
      "source": [
        "Dapat dilihat pada tampilan visualisasi beberapa kolom data diatas memiliki distribusi data yang bervariasi yang akan dijelaskan sebagai berikut:\n",
        "\n",
        "- Kolom Runtime, data tersebut merupakan data durasi yang dimiliki setiap film dalam menit dapat dilihat sebaran data runtime film yang memiliki durasi 100 menit berada pada rentang 80, film yang memiliki durasi 150 berapa pada rentang 20-30, dan seterusnya.\n",
        "- Kolom IMDB_Rating, data tersebut merupakan data rating dari film berdasarkan rata\" dari hasil voting pada situs IMDB dapat dilihat sebaran data IMDB_Rating film yang memiliki rating 7.5 menit berada pada rentang 140-160, film yang memiliki rating 8.0 berapa pada rentang 140, dan seterusnya.\n",
        "- Kolom Meta_Score, data tersebut merupakan data skor yang diberikan untuk ulasan film dari sekelompok besar kritikus paling dihormati di dunia dapat dilihat sebaran data Meta_Score film yang memiliki Meta_Score 60 menit berada pada rentang 20-25, film yang memiliki Meta_Score 70 berapa pada rentang 30-40, dan seterusnya.\n",
        "- Kolom No_of_votes, data tersebut merupakan data jumlah total vote dari film tersebut dapat dilihat sebaran data No_of_votes pada film yang memiliki vote kurang dari 5 juta vote berada pada rentang 100-360, film yang memiliki vote 5 juta berapa pada rentang 30-5, dan seterusnya."
      ],
      "metadata": {
        "id": "tA22A5eN7Qmo"
      }
    },
    {
      "cell_type": "markdown",
      "source": [
        "### Multivariate Analysis"
      ],
      "metadata": {
        "id": "PZpP-R4F8ZWX"
      }
    },
    {
      "cell_type": "code",
      "source": [
        "for index, col in enumerate(categorical_features):\n",
        "  sns.catplot(x=col, y='No_of_Votes', kind='bar', dodge=False, height=3, aspect=6/3, data=df, palette='Set3').set(xlabel=None)\n",
        "  plt.title(\"Rata-rata 'No_of_Votes' Relatif terhadap - {}\".format(col))\n",
        "  plt.xticks(rotation=60)\n",
        "plt.show() "
      ],
      "metadata": {
        "colab": {
          "base_uri": "https://localhost:8080/",
          "height": 264
        },
        "id": "QJdJ_0Wv7Aqc",
        "outputId": "26066f21-f5fc-4fc3-9694-c959af73984b"
      },
      "execution_count": 171,
      "outputs": [
        {
          "output_type": "display_data",
          "data": {
            "text/plain": [
              "<Figure size 432x216 with 1 Axes>"
            ],
            "image/png": "[encoded data removed]"
          },
          "metadata": {
            "needs_background": "light"
          }
        }
      ]
    },
    {
      "cell_type": "markdown",
      "source": [
        "Dapat dilihat pada tampilan visualisasi fitur Certificate data diatas memiliki hubungan terhadap hasil jumlah votes film. hasil visualisasi tersebut menunjukan data certificate dengan beberapa kategori yang memiliki hubungan terhadap jumlah. Film yang Certificate A memiliki hubungan dengan hasil jumlah vote yang berada pada kisaran angka 4juta, Film yang Certificate U memiliki hubungan dengan hasil jumlah vote yang berada pada kisaran angka 2juta. dan seterusnya"
      ],
      "metadata": {
        "id": "e0R0A1FyDQbA"
      }
    },
    {
      "cell_type": "code",
      "source": [
        "sns.pairplot(df, diag_kind = 'kde')"
      ],
      "metadata": {
        "colab": {
          "base_uri": "https://localhost:8080/",
          "height": 920
        },
        "id": "5g85brdDCTgg",
        "outputId": "63afed81-2b72-4fed-cbe0-ea4a9bb24bd1"
      },
      "execution_count": 172,
      "outputs": [
        {
          "output_type": "execute_result",
          "data": {
            "text/plain": [
              "<seaborn.axisgrid.PairGrid at 0x7f34bc8ea850>"
            ]
          },
          "metadata": {},
          "execution_count": 172
        },
        {
          "output_type": "display_data",
          "data": {
            "text/plain": [
              "<Figure size 900x900 with 30 Axes>"
            ],
            "image/png": "[encoded data removed]"
          },
          "metadata": {
            "needs_background": "light"
          }
        }
      ]
    },
    {
      "cell_type": "markdown",
      "source": [
        "Tampilan visualisasi diatas menunjukkan relasi pasangan dalam dataset. Pada kasus ini hanya fokus terhadap No_of_Votes dari pola sebaran data (titik-titik) pada tampilan di atas, pola data grafik No_of_Votes memiliki korelasi positif. Hal ini ditandai dengan meningkatnya variabel pada sumbu y saat terjadi peningkatan variabel pada sumbu x yang terdapat pada tampilan IMDB_Rating dan Meta_score."
      ],
      "metadata": {
        "id": "cXpjFhkmFXx3"
      }
    },
    {
      "cell_type": "code",
      "source": [
        "plt.figure(figsize=(10, 8))\n",
        "correlation_matrix = df.corr().round(2)\n",
        "\n",
        "sns.heatmap(data=correlation_matrix, annot=True, cmap='coolwarm', linewidths=0.5)\n",
        "plt.title('Correlation Matrix untuk Fitur Numerik', size=20)"
      ],
      "metadata": {
        "colab": {
          "base_uri": "https://localhost:8080/",
          "height": 522
        },
        "id": "l5L401hjEaJM",
        "outputId": "6ee1b5ad-9096-4e65-882d-ad9ab5157d52"
      },
      "execution_count": 173,
      "outputs": [
        {
          "output_type": "execute_result",
          "data": {
            "text/plain": [
              "Text(0.5, 1.0, 'Correlation Matrix untuk Fitur Numerik')"
            ]
          },
          "metadata": {},
          "execution_count": 173
        },
        {
          "output_type": "display_data",
          "data": {
            "text/plain": [
              "<Figure size 720x576 with 2 Axes>"
            ],
            "image/png": "[encoded data removed]"
          },
          "metadata": {
            "needs_background": "light"
          }
        }
      ]
    },
    {
      "cell_type": "markdown",
      "source": [
        "Dapat dilihat pada tampilan visualisasi korelasi fitur data diatas. Korelasi mengukur kekuatan hubungan antara dua variabel serta arahnya (positif atau negatif). Mengenai kekuatan hubungan antar variabel, semakin dekat nilainya ke 1 atau -1, korelasinya semakin kuat. Sedangkan, semakin dekat nilainya ke 0, korelasinya semakin lemah. Tampilan diatas menunjukan bahwa kolom data Meta_Score memiliki hubungan yang lemah terhadap hasil voteing sehingga dapat dilakukan pengapusan pada kolom data tersebut."
      ],
      "metadata": {
        "id": "sRMzTu-HGWX-"
      }
    },
    {
      "cell_type": "markdown",
      "source": [
        "### Penghapusan data yang tidak digunakan"
      ],
      "metadata": {
        "id": "jUJsOU4T99MH"
      }
    },
    {
      "cell_type": "code",
      "source": [
        "# Menyimpan nama film pada dataframe baru\n",
        "df_series_title = pd.DataFrame({'Series_Title': df['Series_Title'], 'Genre': df['Genre']})\n",
        "\n",
        "\n",
        "\n",
        "# Mengubah kolom Series_Title sebagai index\n",
        "df.set_index('Series_Title',inplace=True)\n",
        "\n",
        "# Menghapus Kolom yang tidak digunakan\n",
        "df.drop(['Poster_Link', 'Overview', 'Gross', 'Meta_score'], axis = 1, inplace = True)\n",
        "df.info()"
      ],
      "metadata": {
        "colab": {
          "base_uri": "https://localhost:8080/"
        },
        "id": "BEAu6iwa-Bvm",
        "outputId": "e7533b82-9dda-483e-8417-357e2bd25e1b"
      },
      "execution_count": 174,
      "outputs": [
        {
          "output_type": "stream",
          "name": "stdout",
          "text": [
            "<class 'pandas.core.frame.DataFrame'>\n",
            "Index: 999 entries, The Shawshank Redemption to The 39 Steps\n",
            "Data columns (total 11 columns):\n",
            " #   Column         Non-Null Count  Dtype  \n",
            "---  ------         --------------  -----  \n",
            " 0   Released_Year  999 non-null    int64  \n",
            " 1   Certificate    999 non-null    object \n",
            " 2   Runtime        999 non-null    float64\n",
            " 3   Genre          999 non-null    object \n",
            " 4   IMDB_Rating    999 non-null    float64\n",
            " 5   Director       999 non-null    object \n",
            " 6   Star1          999 non-null    object \n",
            " 7   Star2          999 non-null    object \n",
            " 8   Star3          999 non-null    object \n",
            " 9   Star4          999 non-null    object \n",
            " 10  No_of_Votes    999 non-null    int64  \n",
            "dtypes: float64(2), int64(2), object(7)\n",
            "memory usage: 93.7+ KB\n"
          ]
        }
      ]
    },
    {
      "cell_type": "markdown",
      "source": [
        "Dapat dilihat kolom menjadi 10 dari 15 kolom gross, Poster_Link, Overview, Meta_score telah dihapus dikarenakan kolom tersebut tidak gunakan. Penghapusan kolom Overview adalah untuk menghindari kemiripan rekomendasi dan rekomendasi menjadi lebih general. pada kolom Meta_score dihapus karenakan memiliki korelasi lemah yang sudah dijelaskan sebelumnya. sedangkan untuk Poster_link dan gross memang tidak digunakan dalam kasus ini."
      ],
      "metadata": {
        "id": "HIFAWLTB-hLE"
      }
    },
    {
      "cell_type": "markdown",
      "source": [
        "### Konversi label kategori menjadi one-hot encoding"
      ],
      "metadata": {
        "id": "SwKKYbwiGy4m"
      }
    },
    {
      "cell_type": "markdown",
      "source": [
        "#### Kolom Genre"
      ],
      "metadata": {
        "id": "GwZ0CrAvLNK9"
      }
    },
    {
      "cell_type": "code",
      "source": [
        "# Mengambil setiap unik pada kolom Genre\n",
        "genres = np.unique(', '.join(df['Genre']).split(', '))\n",
        "df_one_hot_genre = pd.DataFrame()\n",
        "# Proses one-hot encoding pada kolom genre\n",
        "for genre in genres:\n",
        "    df_one_hot_genre['genre_'+ genre] = df['Genre'].str.contains(genre).astype('int')\n",
        "\n",
        "# Menghapus kolom Genre pada dataset \n",
        "df.drop('Genre', axis = 1, inplace = True)"
      ],
      "metadata": {
        "id": "EWgHUiunGDH7"
      },
      "execution_count": 175,
      "outputs": []
    },
    {
      "cell_type": "markdown",
      "source": [
        "#### Kolom Certificate"
      ],
      "metadata": {
        "id": "h2QkLgVQcx_w"
      }
    },
    {
      "cell_type": "code",
      "source": [
        "# Proses one-hot encoding pada kolom Certificate\n",
        "df_one_hot_certificate = pd.get_dummies(df['Certificate'], prefix='Certificate')\n",
        "\n",
        "# Menghapus kolom Certificate pada dataset \n",
        "df.drop('Certificate', axis = 1, inplace = True)"
      ],
      "metadata": {
        "id": "cpJaW6aicrH5"
      },
      "execution_count": 176,
      "outputs": []
    },
    {
      "cell_type": "markdown",
      "source": [
        "#### Kolom Director"
      ],
      "metadata": {
        "id": "Lvz8ss7jNZYQ"
      }
    },
    {
      "cell_type": "code",
      "source": [
        "# Proses one-hot encoding pada kolom Director\n",
        "df_one_hot_director = pd.get_dummies(df['Director'], prefix='Director')\n",
        "\n",
        "# Menghapus kolom Director pada dataset \n",
        "df.drop('Director', axis = 1, inplace = True)"
      ],
      "metadata": {
        "id": "eiXsnOk6NYro"
      },
      "execution_count": 177,
      "outputs": []
    },
    {
      "cell_type": "markdown",
      "source": [
        "#### Kolom Star1, Star2, Star3, dan Star4"
      ],
      "metadata": {
        "id": "GsOq5uE8LZYJ"
      }
    },
    {
      "cell_type": "code",
      "source": [
        "# Proses one-hot encoding pada kolom ['Star1', 'Star2', 'Star3', 'Star4']\n",
        "column_stars = df[['Star1', 'Star2', 'Star3', 'Star4']].keys()\n",
        "df_one_hot_stars = pd.get_dummies(df[column_stars])\n",
        "\n",
        "# Menghapus kolom ['Star1', 'Star2', 'Star3', 'Star4'] pada dataset \n",
        "df.drop(['Star1', 'Star2', 'Star3', 'Star4'], axis = 1, inplace = True)"
      ],
      "metadata": {
        "id": "Ifox9JBGKtTR"
      },
      "execution_count": 178,
      "outputs": []
    },
    {
      "cell_type": "markdown",
      "source": [
        "### Mengabungkan proses one hot encoding dengan dataset"
      ],
      "metadata": {
        "id": "voabqtE_O3qP"
      }
    },
    {
      "cell_type": "code",
      "source": [
        "# Mengabungkan proses one hot encoding dengan dataset\n",
        "df = pd.concat([df, df_one_hot_certificate, df_one_hot_genre, df_one_hot_director, df_one_hot_stars],axis=1)\n",
        "df.head()"
      ],
      "metadata": {
        "colab": {
          "base_uri": "https://localhost:8080/",
          "height": 470
        },
        "id": "Bk4QY4ozNnZl",
        "outputId": "c43fb822-aec8-418a-c1f6-2d82df7a9557"
      },
      "execution_count": 179,
      "outputs": [
        {
          "output_type": "execute_result",
          "data": {
            "text/plain": [
              "                          Released_Year  Runtime  IMDB_Rating  No_of_Votes  \\\n",
              "Series_Title                                                                 \n",
              "The Shawshank Redemption           1994    142.0          9.3      2343110   \n",
              "The Godfather                      1972    175.0          9.2      1620367   \n",
              "The Dark Knight                    2008    152.0          9.0      2303232   \n",
              "The Godfather: Part II             1974    202.0          9.0      1129952   \n",
              "12 Angry Men                       1957     96.0          9.0       689845   \n",
              "\n",
              "                          Certificate_16  Certificate_A  Certificate_Approved  \\\n",
              "Series_Title                                                                    \n",
              "The Shawshank Redemption               0              1                     0   \n",
              "The Godfather                          0              1                     0   \n",
              "The Dark Knight                        0              0                     0   \n",
              "The Godfather: Part II                 0              1                     0   \n",
              "12 Angry Men                           0              0                     0   \n",
              "\n",
              "                          Certificate_G  Certificate_GP  Certificate_PG  ...  \\\n",
              "Series_Title                                                             ...   \n",
              "The Shawshank Redemption              0               0               0  ...   \n",
              "The Godfather                         0               0               0  ...   \n",
              "The Dark Knight                       0               0               0  ...   \n",
              "The Godfather: Part II                0               0               0  ...   \n",
              "12 Angry Men                          0               0               0  ...   \n",
              "\n",
              "                          Star4_Yûnosuke Itô  Star4_Zac Mattoon O'Brien  \\\n",
              "Series_Title                                                              \n",
              "The Shawshank Redemption                   0                          0   \n",
              "The Godfather                              0                          0   \n",
              "The Dark Knight                            0                          0   \n",
              "The Godfather: Part II                     0                          0   \n",
              "12 Angry Men                               0                          0   \n",
              "\n",
              "                          Star4_Zach Grenier  Star4_Zarah Jane McKenzie  \\\n",
              "Series_Title                                                              \n",
              "The Shawshank Redemption                   0                          0   \n",
              "The Godfather                              0                          0   \n",
              "The Dark Knight                            0                          0   \n",
              "The Godfather: Part II                     0                          0   \n",
              "12 Angry Men                               0                          0   \n",
              "\n",
              "                          Star4_Zeppo Marx  Star4_Ziyi Zhang  \\\n",
              "Series_Title                                                   \n",
              "The Shawshank Redemption                 0                 0   \n",
              "The Godfather                            0                 0   \n",
              "The Dark Knight                          0                 0   \n",
              "The Godfather: Part II                   0                 0   \n",
              "12 Angry Men                             0                 0   \n",
              "\n",
              "                          Star4_Zoe Saldana  Star4_Zoë Kravitz  \\\n",
              "Series_Title                                                     \n",
              "The Shawshank Redemption                  0                  0   \n",
              "The Godfather                             0                  0   \n",
              "The Dark Knight                           0                  0   \n",
              "The Godfather: Part II                    0                  0   \n",
              "12 Angry Men                              0                  0   \n",
              "\n",
              "                          Star4_Álvaro Guerrero  Star4_Émile Vallée  \n",
              "Series_Title                                                         \n",
              "The Shawshank Redemption                      0                   0  \n",
              "The Godfather                                 0                   0  \n",
              "The Dark Knight                               0                   0  \n",
              "The Godfather: Part II                        0                   0  \n",
              "12 Angry Men                                  0                   0  \n",
              "\n",
              "[5 rows x 3918 columns]"
            ],
            "text/html": [
              "\n",
              "  <div id=\"df-bd8bf110-fa13-45ba-acd6-5dec5e2fcbc4\">\n",
              "    <div class=\"colab-df-container\">\n",
              "      <div>\n",
              "<style scoped>\n",
              "    .dataframe tbody tr th:only-of-type {\n",
              "        vertical-align: middle;\n",
              "    }\n",
              "\n",
              "    .dataframe tbody tr th {\n",
              "        vertical-align: top;\n",
              "    }\n",
              "\n",
              "    .dataframe thead th {\n",
              "        text-align: right;\n",
              "    }\n",
              "</style>\n",
              "<table border=\"1\" class=\"dataframe\">\n",
              "  <thead>\n",
              "    <tr style=\"text-align: right;\">\n",
              "      <th></th>\n",
              "      <th>Released_Year</th>\n",
              "      <th>Runtime</th>\n",
              "      <th>IMDB_Rating</th>\n",
              "      <th>No_of_Votes</th>\n",
              "      <th>Certificate_16</th>\n",
              "      <th>Certificate_A</th>\n",
              "      <th>Certificate_Approved</th>\n",
              "      <th>Certificate_G</th>\n",
              "      <th>Certificate_GP</th>\n",
              "      <th>Certificate_PG</th>\n",
              "      <th>...</th>\n",
              "      <th>Star4_Yûnosuke Itô</th>\n",
              "      <th>Star4_Zac Mattoon O'Brien</th>\n",
              "      <th>Star4_Zach Grenier</th>\n",
              "      <th>Star4_Zarah Jane McKenzie</th>\n",
              "      <th>Star4_Zeppo Marx</th>\n",
              "      <th>Star4_Ziyi Zhang</th>\n",
              "      <th>Star4_Zoe Saldana</th>\n",
              "      <th>Star4_Zoë Kravitz</th>\n",
              "      <th>Star4_Álvaro Guerrero</th>\n",
              "      <th>Star4_Émile Vallée</th>\n",
              "    </tr>\n",
              "    <tr>\n",
              "      <th>Series_Title</th>\n",
              "      <th></th>\n",
              "      <th></th>\n",
              "      <th></th>\n",
              "      <th></th>\n",
              "      <th></th>\n",
              "      <th></th>\n",
              "      <th></th>\n",
              "      <th></th>\n",
              "      <th></th>\n",
              "      <th></th>\n",
              "      <th></th>\n",
              "      <th></th>\n",
              "      <th></th>\n",
              "      <th></th>\n",
              "      <th></th>\n",
              "      <th></th>\n",
              "      <th></th>\n",
              "      <th></th>\n",
              "      <th></th>\n",
              "      <th></th>\n",
              "      <th></th>\n",
              "    </tr>\n",
              "  </thead>\n",
              "  <tbody>\n",
              "    <tr>\n",
              "      <th>The Shawshank Redemption</th>\n",
              "      <td>1994</td>\n",
              "      <td>142.0</td>\n",
              "      <td>9.3</td>\n",
              "      <td>2343110</td>\n",
              "      <td>0</td>\n",
              "      <td>1</td>\n",
              "      <td>0</td>\n",
              "      <td>0</td>\n",
              "      <td>0</td>\n",
              "      <td>0</td>\n",
              "      <td>...</td>\n",
              "      <td>0</td>\n",
              "      <td>0</td>\n",
              "      <td>0</td>\n",
              "      <td>0</td>\n",
              "      <td>0</td>\n",
              "      <td>0</td>\n",
              "      <td>0</td>\n",
              "      <td>0</td>\n",
              "      <td>0</td>\n",
              "      <td>0</td>\n",
              "    </tr>\n",
              "    <tr>\n",
              "      <th>The Godfather</th>\n",
              "      <td>1972</td>\n",
              "      <td>175.0</td>\n",
              "      <td>9.2</td>\n",
              "      <td>1620367</td>\n",
              "      <td>0</td>\n",
              "      <td>1</td>\n",
              "      <td>0</td>\n",
              "      <td>0</td>\n",
              "      <td>0</td>\n",
              "      <td>0</td>\n",
              "      <td>...</td>\n",
              "      <td>0</td>\n",
              "      <td>0</td>\n",
              "      <td>0</td>\n",
              "      <td>0</td>\n",
              "      <td>0</td>\n",
              "      <td>0</td>\n",
              "      <td>0</td>\n",
              "      <td>0</td>\n",
              "      <td>0</td>\n",
              "      <td>0</td>\n",
              "    </tr>\n",
              "    <tr>\n",
              "      <th>The Dark Knight</th>\n",
              "      <td>2008</td>\n",
              "      <td>152.0</td>\n",
              "      <td>9.0</td>\n",
              "      <td>2303232</td>\n",
              "      <td>0</td>\n",
              "      <td>0</td>\n",
              "      <td>0</td>\n",
              "      <td>0</td>\n",
              "      <td>0</td>\n",
              "      <td>0</td>\n",
              "      <td>...</td>\n",
              "      <td>0</td>\n",
              "      <td>0</td>\n",
              "      <td>0</td>\n",
              "      <td>0</td>\n",
              "      <td>0</td>\n",
              "      <td>0</td>\n",
              "      <td>0</td>\n",
              "      <td>0</td>\n",
              "      <td>0</td>\n",
              "      <td>0</td>\n",
              "    </tr>\n",
              "    <tr>\n",
              "      <th>The Godfather: Part II</th>\n",
              "      <td>1974</td>\n",
              "      <td>202.0</td>\n",
              "      <td>9.0</td>\n",
              "      <td>1129952</td>\n",
              "      <td>0</td>\n",
              "      <td>1</td>\n",
              "      <td>0</td>\n",
              "      <td>0</td>\n",
              "      <td>0</td>\n",
              "      <td>0</td>\n",
              "      <td>...</td>\n",
              "      <td>0</td>\n",
              "      <td>0</td>\n",
              "      <td>0</td>\n",
              "      <td>0</td>\n",
              "      <td>0</td>\n",
              "      <td>0</td>\n",
              "      <td>0</td>\n",
              "      <td>0</td>\n",
              "      <td>0</td>\n",
              "      <td>0</td>\n",
              "    </tr>\n",
              "    <tr>\n",
              "      <th>12 Angry Men</th>\n",
              "      <td>1957</td>\n",
              "      <td>96.0</td>\n",
              "      <td>9.0</td>\n",
              "      <td>689845</td>\n",
              "      <td>0</td>\n",
              "      <td>0</td>\n",
              "      <td>0</td>\n",
              "      <td>0</td>\n",
              "      <td>0</td>\n",
              "      <td>0</td>\n",
              "      <td>...</td>\n",
              "      <td>0</td>\n",
              "      <td>0</td>\n",
              "      <td>0</td>\n",
              "      <td>0</td>\n",
              "      <td>0</td>\n",
              "      <td>0</td>\n",
              "      <td>0</td>\n",
              "      <td>0</td>\n",
              "      <td>0</td>\n",
              "      <td>0</td>\n",
              "    </tr>\n",
              "  </tbody>\n",
              "</table>\n",
              "<p>5 rows × 3918 columns</p>\n",
              "</div>\n",
              "      <button class=\"colab-df-convert\" onclick=\"convertToInteractive('df-bd8bf110-fa13-45ba-acd6-5dec5e2fcbc4')\"\n",
              "              title=\"Convert this dataframe to an interactive table.\"\n",
              "              style=\"display:none;\">\n",
              "        \n",
              "  <svg xmlns=\"http://www.w3.org/2000/svg\" height=\"24px\"viewBox=\"0 0 24 24\"\n",
              "       width=\"24px\">\n",
              "    <path d=\"M0 0h24v24H0V0z\" fill=\"none\"/>\n",
              "    <path d=\"M18.56 5.44l.94 2.06.94-2.06 2.06-.94-2.06-.94-.94-2.06-.94 2.06-2.06.94zm-11 1L8.5 8.5l.94-2.06 2.06-.94-2.06-.94L8.5 2.5l-.94 2.06-2.06.94zm10 10l.94 2.06.94-2.06 2.06-.94-2.06-.94-.94-2.06-.94 2.06-2.06.94z\"/><path d=\"M17.41 7.96l-1.37-1.37c-.4-.4-.92-.59-1.43-.59-.52 0-1.04.2-1.43.59L10.3 9.45l-7.72 7.72c-.78.78-.78 2.05 0 2.83L4 21.41c.39.39.9.59 1.41.59.51 0 1.02-.2 1.41-.59l7.78-7.78 2.81-2.81c.8-.78.8-2.07 0-2.86zM5.41 20L4 18.59l7.72-7.72 1.47 1.35L5.41 20z\"/>\n",
              "  </svg>\n",
              "      </button>\n",
              "      \n",
              "  <style>\n",
              "    .colab-df-container {\n",
              "      display:flex;\n",
              "      flex-wrap:wrap;\n",
              "      gap: 12px;\n",
              "    }\n",
              "\n",
              "    .colab-df-convert {\n",
              "      background-color: #E8F0FE;\n",
              "      border: none;\n",
              "      border-radius: 50%;\n",
              "      cursor: pointer;\n",
              "      display: none;\n",
              "      fill: #1967D2;\n",
              "      height: 32px;\n",
              "      padding: 0 0 0 0;\n",
              "      width: 32px;\n",
              "    }\n",
              "\n",
              "    .colab-df-convert:hover {\n",
              "      background-color: #E2EBFA;\n",
              "      box-shadow: 0px 1px 2px rgba(60, 64, 67, 0.3), 0px 1px 3px 1px rgba(60, 64, 67, 0.15);\n",
              "      fill: #174EA6;\n",
              "    }\n",
              "\n",
              "    [theme=dark] .colab-df-convert {\n",
              "      background-color: #3B4455;\n",
              "      fill: #D2E3FC;\n",
              "    }\n",
              "\n",
              "    [theme=dark] .colab-df-convert:hover {\n",
              "      background-color: #434B5C;\n",
              "      box-shadow: 0px 1px 3px 1px rgba(0, 0, 0, 0.15);\n",
              "      filter: drop-shadow(0px 1px 2px rgba(0, 0, 0, 0.3));\n",
              "      fill: #FFFFFF;\n",
              "    }\n",
              "  </style>\n",
              "\n",
              "      <script>\n",
              "        const buttonEl =\n",
              "          document.querySelector('#df-bd8bf110-fa13-45ba-acd6-5dec5e2fcbc4 button.colab-df-convert');\n",
              "        buttonEl.style.display =\n",
              "          google.colab.kernel.accessAllowed ? 'block' : 'none';\n",
              "\n",
              "        async function convertToInteractive(key) {\n",
              "          const element = document.querySelector('#df-bd8bf110-fa13-45ba-acd6-5dec5e2fcbc4');\n",
              "          const dataTable =\n",
              "            await google.colab.kernel.invokeFunction('convertToInteractive',\n",
              "                                                     [key], {});\n",
              "          if (!dataTable) return;\n",
              "\n",
              "          const docLinkHtml = 'Like what you see? Visit the ' +\n",
              "            '<a target=\"_blank\" href=https://colab.research.google.com/notebooks/data_table.ipynb>data table notebook</a>'\n",
              "            + ' to learn more about interactive tables.';\n",
              "          element.innerHTML = '';\n",
              "          dataTable['output_type'] = 'display_data';\n",
              "          await google.colab.output.renderOutput(dataTable, element);\n",
              "          const docLink = document.createElement('div');\n",
              "          docLink.innerHTML = docLinkHtml;\n",
              "          element.appendChild(docLink);\n",
              "        }\n",
              "      </script>\n",
              "    </div>\n",
              "  </div>\n",
              "  "
            ]
          },
          "metadata": {},
          "execution_count": 179
        }
      ]
    },
    {
      "cell_type": "markdown",
      "source": [
        "### Normalisasi data Numerik"
      ],
      "metadata": {
        "id": "CiNyxL-vO8XW"
      }
    },
    {
      "cell_type": "code",
      "source": [
        "scaler = MinMaxScaler()\n",
        "\n",
        "column_numeric = ['Released_Year', 'Runtime', 'IMDB_Rating', 'No_of_Votes']\n",
        "scaler.fit(df[column_numeric])\n",
        "df[column_numeric] = scaler.transform(df.loc[:, column_numeric])\n",
        "\n",
        "df[column_numeric].describe().round(4)"
      ],
      "metadata": {
        "colab": {
          "base_uri": "https://localhost:8080/",
          "height": 300
        },
        "id": "_fqubz5XOWCk",
        "outputId": "2a0f9e5e-379f-4b7d-804f-3adb65da2a11"
      },
      "execution_count": 180,
      "outputs": [
        {
          "output_type": "execute_result",
          "data": {
            "text/plain": [
              "       Released_Year   Runtime  IMDB_Rating  No_of_Votes\n",
              "count       999.0000  999.0000     999.0000     999.0000\n",
              "mean          0.7122    0.2822       0.2057       0.1073\n",
              "std           0.2330    0.1018       0.1620       0.1413\n",
              "min           0.0000    0.0000       0.0000       0.0000\n",
              "25%           0.5600    0.2101       0.0588       0.0131\n",
              "50%           0.7900    0.2681       0.1765       0.0489\n",
              "75%           0.8900    0.3333       0.2941       0.1507\n",
              "max           1.0000    1.0000       1.0000       1.0000"
            ],
            "text/html": [
              "\n",
              "  <div id=\"df-cdda7bce-d8fb-4c76-b930-d0e2d51418ff\">\n",
              "    <div class=\"colab-df-container\">\n",
              "      <div>\n",
              "<style scoped>\n",
              "    .dataframe tbody tr th:only-of-type {\n",
              "        vertical-align: middle;\n",
              "    }\n",
              "\n",
              "    .dataframe tbody tr th {\n",
              "        vertical-align: top;\n",
              "    }\n",
              "\n",
              "    .dataframe thead th {\n",
              "        text-align: right;\n",
              "    }\n",
              "</style>\n",
              "<table border=\"1\" class=\"dataframe\">\n",
              "  <thead>\n",
              "    <tr style=\"text-align: right;\">\n",
              "      <th></th>\n",
              "      <th>Released_Year</th>\n",
              "      <th>Runtime</th>\n",
              "      <th>IMDB_Rating</th>\n",
              "      <th>No_of_Votes</th>\n",
              "    </tr>\n",
              "  </thead>\n",
              "  <tbody>\n",
              "    <tr>\n",
              "      <th>count</th>\n",
              "      <td>999.0000</td>\n",
              "      <td>999.0000</td>\n",
              "      <td>999.0000</td>\n",
              "      <td>999.0000</td>\n",
              "    </tr>\n",
              "    <tr>\n",
              "      <th>mean</th>\n",
              "      <td>0.7122</td>\n",
              "      <td>0.2822</td>\n",
              "      <td>0.2057</td>\n",
              "      <td>0.1073</td>\n",
              "    </tr>\n",
              "    <tr>\n",
              "      <th>std</th>\n",
              "      <td>0.2330</td>\n",
              "      <td>0.1018</td>\n",
              "      <td>0.1620</td>\n",
              "      <td>0.1413</td>\n",
              "    </tr>\n",
              "    <tr>\n",
              "      <th>min</th>\n",
              "      <td>0.0000</td>\n",
              "      <td>0.0000</td>\n",
              "      <td>0.0000</td>\n",
              "      <td>0.0000</td>\n",
              "    </tr>\n",
              "    <tr>\n",
              "      <th>25%</th>\n",
              "      <td>0.5600</td>\n",
              "      <td>0.2101</td>\n",
              "      <td>0.0588</td>\n",
              "      <td>0.0131</td>\n",
              "    </tr>\n",
              "    <tr>\n",
              "      <th>50%</th>\n",
              "      <td>0.7900</td>\n",
              "      <td>0.2681</td>\n",
              "      <td>0.1765</td>\n",
              "      <td>0.0489</td>\n",
              "    </tr>\n",
              "    <tr>\n",
              "      <th>75%</th>\n",
              "      <td>0.8900</td>\n",
              "      <td>0.3333</td>\n",
              "      <td>0.2941</td>\n",
              "      <td>0.1507</td>\n",
              "    </tr>\n",
              "    <tr>\n",
              "      <th>max</th>\n",
              "      <td>1.0000</td>\n",
              "      <td>1.0000</td>\n",
              "      <td>1.0000</td>\n",
              "      <td>1.0000</td>\n",
              "    </tr>\n",
              "  </tbody>\n",
              "</table>\n",
              "</div>\n",
              "      <button class=\"colab-df-convert\" onclick=\"convertToInteractive('df-cdda7bce-d8fb-4c76-b930-d0e2d51418ff')\"\n",
              "              title=\"Convert this dataframe to an interactive table.\"\n",
              "              style=\"display:none;\">\n",
              "        \n",
              "  <svg xmlns=\"http://www.w3.org/2000/svg\" height=\"24px\"viewBox=\"0 0 24 24\"\n",
              "       width=\"24px\">\n",
              "    <path d=\"M0 0h24v24H0V0z\" fill=\"none\"/>\n",
              "    <path d=\"M18.56 5.44l.94 2.06.94-2.06 2.06-.94-2.06-.94-.94-2.06-.94 2.06-2.06.94zm-11 1L8.5 8.5l.94-2.06 2.06-.94-2.06-.94L8.5 2.5l-.94 2.06-2.06.94zm10 10l.94 2.06.94-2.06 2.06-.94-2.06-.94-.94-2.06-.94 2.06-2.06.94z\"/><path d=\"M17.41 7.96l-1.37-1.37c-.4-.4-.92-.59-1.43-.59-.52 0-1.04.2-1.43.59L10.3 9.45l-7.72 7.72c-.78.78-.78 2.05 0 2.83L4 21.41c.39.39.9.59 1.41.59.51 0 1.02-.2 1.41-.59l7.78-7.78 2.81-2.81c.8-.78.8-2.07 0-2.86zM5.41 20L4 18.59l7.72-7.72 1.47 1.35L5.41 20z\"/>\n",
              "  </svg>\n",
              "      </button>\n",
              "      \n",
              "  <style>\n",
              "    .colab-df-container {\n",
              "      display:flex;\n",
              "      flex-wrap:wrap;\n",
              "      gap: 12px;\n",
              "    }\n",
              "\n",
              "    .colab-df-convert {\n",
              "      background-color: #E8F0FE;\n",
              "      border: none;\n",
              "      border-radius: 50%;\n",
              "      cursor: pointer;\n",
              "      display: none;\n",
              "      fill: #1967D2;\n",
              "      height: 32px;\n",
              "      padding: 0 0 0 0;\n",
              "      width: 32px;\n",
              "    }\n",
              "\n",
              "    .colab-df-convert:hover {\n",
              "      background-color: #E2EBFA;\n",
              "      box-shadow: 0px 1px 2px rgba(60, 64, 67, 0.3), 0px 1px 3px 1px rgba(60, 64, 67, 0.15);\n",
              "      fill: #174EA6;\n",
              "    }\n",
              "\n",
              "    [theme=dark] .colab-df-convert {\n",
              "      background-color: #3B4455;\n",
              "      fill: #D2E3FC;\n",
              "    }\n",
              "\n",
              "    [theme=dark] .colab-df-convert:hover {\n",
              "      background-color: #434B5C;\n",
              "      box-shadow: 0px 1px 3px 1px rgba(0, 0, 0, 0.15);\n",
              "      filter: drop-shadow(0px 1px 2px rgba(0, 0, 0, 0.3));\n",
              "      fill: #FFFFFF;\n",
              "    }\n",
              "  </style>\n",
              "\n",
              "      <script>\n",
              "        const buttonEl =\n",
              "          document.querySelector('#df-cdda7bce-d8fb-4c76-b930-d0e2d51418ff button.colab-df-convert');\n",
              "        buttonEl.style.display =\n",
              "          google.colab.kernel.accessAllowed ? 'block' : 'none';\n",
              "\n",
              "        async function convertToInteractive(key) {\n",
              "          const element = document.querySelector('#df-cdda7bce-d8fb-4c76-b930-d0e2d51418ff');\n",
              "          const dataTable =\n",
              "            await google.colab.kernel.invokeFunction('convertToInteractive',\n",
              "                                                     [key], {});\n",
              "          if (!dataTable) return;\n",
              "\n",
              "          const docLinkHtml = 'Like what you see? Visit the ' +\n",
              "            '<a target=\"_blank\" href=https://colab.research.google.com/notebooks/data_table.ipynb>data table notebook</a>'\n",
              "            + ' to learn more about interactive tables.';\n",
              "          element.innerHTML = '';\n",
              "          dataTable['output_type'] = 'display_data';\n",
              "          await google.colab.output.renderOutput(dataTable, element);\n",
              "          const docLink = document.createElement('div');\n",
              "          docLink.innerHTML = docLinkHtml;\n",
              "          element.appendChild(docLink);\n",
              "        }\n",
              "      </script>\n",
              "    </div>\n",
              "  </div>\n",
              "  "
            ]
          },
          "metadata": {},
          "execution_count": 180
        }
      ]
    },
    {
      "cell_type": "markdown",
      "source": [
        "## Model Development Content Based Filtering"
      ],
      "metadata": {
        "id": "FjtecQDhVd_T"
      }
    },
    {
      "cell_type": "markdown",
      "source": [
        "#### K-Nearest Neighbor"
      ],
      "metadata": {
        "id": "nOTk_B5AYYK2"
      }
    },
    {
      "cell_type": "code",
      "source": [
        "# Membuat sistem rekomendasi dengan model K-Nearest Neighbor\n",
        "# Inisiasi model \n",
        "model = NearestNeighbors(metric='euclidean')\n",
        "\n",
        "# Melakukan fitting model terhadap data\n",
        "model.fit(df)"
      ],
      "metadata": {
        "colab": {
          "base_uri": "https://localhost:8080/"
        },
        "id": "lM1od5EAUzNL",
        "outputId": "51bf04cd-4512-4b18-93c6-359dcd9520a0"
      },
      "execution_count": 181,
      "outputs": [
        {
          "output_type": "execute_result",
          "data": {
            "text/plain": [
              "NearestNeighbors(metric='euclidean')"
            ]
          },
          "metadata": {},
          "execution_count": 181
        }
      ]
    },
    {
      "cell_type": "code",
      "source": [
        "# Recommender KNN\n",
        "def getRecommenderMovies_KNN(movies:str, recommend_movies:int=10):\n",
        "  print(f'Apabila pengguna menyukai film {movies}\\n{recommend_movies} film berikut dapat direkomendasikan pada pengguna :')\n",
        "\n",
        "  # Mencari film terdekat dengan film yang disukai\n",
        "  distances, neighbors = model.kneighbors(df.loc[df.index == movies], n_neighbors=recommend_movies)\n",
        "\n",
        "  # Memasukkan film yang sama pada list similar_movies\n",
        "  similar_movies, genre = [], []\n",
        "  for movei_title in df_series_title.loc[neighbors[0][:]].values:\n",
        "    similar_movies.append(movei_title[0])\n",
        "    genre.append(movei_title[1])\n",
        "\n",
        "  # Memasukan nilai kemiripan pada sebuah list\n",
        "  similar_distance = []\n",
        "  for distance in distances[0]:\n",
        "    similar_distance.append(f\"{round(100-distance, 2)}%\")\n",
        "    \n",
        "  # Menampilkan remokendasi pada pengguna\n",
        "  return pd.DataFrame(data = {\"Nama Film\" : similar_movies, \"Genre\" : genre, \"Tingkat Kesamaan\" : similar_distance})"
      ],
      "metadata": {
        "id": "QisrIbVVYelr"
      },
      "execution_count": 230,
      "outputs": []
    },
    {
      "cell_type": "code",
      "source": [
        "getRecommenderMovies_KNN(df_series_title.loc[10][0])"
      ],
      "metadata": {
        "id": "LKBukswMJ43j",
        "colab": {
          "base_uri": "https://localhost:8080/",
          "height": 398
        },
        "outputId": "9d81c12c-32b2-4011-dd0f-f84c6b5ab367"
      },
      "execution_count": 232,
      "outputs": [
        {
          "output_type": "stream",
          "name": "stdout",
          "text": [
            "Apabila pengguna menyukai film The Lord of the Rings: The Fellowship of the Ring\n",
            "10 film berikut dapat direkomendasikan pada pengguna :\n"
          ]
        },
        {
          "output_type": "execute_result",
          "data": {
            "text/plain": [
              "                                           Nama Film  \\\n",
              "0  The Lord of the Rings: The Fellowship of the Ring   \n",
              "1              The Lord of the Rings: The Two Towers   \n",
              "2      The Lord of the Rings: The Return of the King   \n",
              "3                               Shichinin no samurai   \n",
              "4                 Indiana Jones and the Last Crusade   \n",
              "5                  The Hobbit: An Unexpected Journey   \n",
              "6                                        Stand by Me   \n",
              "7                               The Ten Commandments   \n",
              "8                                          Gladiator   \n",
              "9                                  Avengers: Endgame   \n",
              "\n",
              "                      Genre Tingkat Kesamaan  \n",
              "0  Action, Adventure, Drama           100.0%  \n",
              "1  Action, Adventure, Drama           97.55%  \n",
              "2  Action, Adventure, Drama           97.55%  \n",
              "3  Action, Adventure, Drama           96.75%  \n",
              "4         Action, Adventure           96.63%  \n",
              "5        Adventure, Fantasy           96.61%  \n",
              "6          Adventure, Drama           96.59%  \n",
              "7          Adventure, Drama           96.54%  \n",
              "8  Action, Adventure, Drama           96.53%  \n",
              "9  Action, Adventure, Drama            96.5%  "
            ],
            "text/html": [
              "\n",
              "  <div id=\"df-b58a210f-8820-420a-9f57-e02d27c4a7e7\">\n",
              "    <div class=\"colab-df-container\">\n",
              "      <div>\n",
              "<style scoped>\n",
              "    .dataframe tbody tr th:only-of-type {\n",
              "        vertical-align: middle;\n",
              "    }\n",
              "\n",
              "    .dataframe tbody tr th {\n",
              "        vertical-align: top;\n",
              "    }\n",
              "\n",
              "    .dataframe thead th {\n",
              "        text-align: right;\n",
              "    }\n",
              "</style>\n",
              "<table border=\"1\" class=\"dataframe\">\n",
              "  <thead>\n",
              "    <tr style=\"text-align: right;\">\n",
              "      <th></th>\n",
              "      <th>Nama Film</th>\n",
              "      <th>Genre</th>\n",
              "      <th>Tingkat Kesamaan</th>\n",
              "    </tr>\n",
              "  </thead>\n",
              "  <tbody>\n",
              "    <tr>\n",
              "      <th>0</th>\n",
              "      <td>The Lord of the Rings: The Fellowship of the Ring</td>\n",
              "      <td>Action, Adventure, Drama</td>\n",
              "      <td>100.0%</td>\n",
              "    </tr>\n",
              "    <tr>\n",
              "      <th>1</th>\n",
              "      <td>The Lord of the Rings: The Two Towers</td>\n",
              "      <td>Action, Adventure, Drama</td>\n",
              "      <td>97.55%</td>\n",
              "    </tr>\n",
              "    <tr>\n",
              "      <th>2</th>\n",
              "      <td>The Lord of the Rings: The Return of the King</td>\n",
              "      <td>Action, Adventure, Drama</td>\n",
              "      <td>97.55%</td>\n",
              "    </tr>\n",
              "    <tr>\n",
              "      <th>3</th>\n",
              "      <td>Shichinin no samurai</td>\n",
              "      <td>Action, Adventure, Drama</td>\n",
              "      <td>96.75%</td>\n",
              "    </tr>\n",
              "    <tr>\n",
              "      <th>4</th>\n",
              "      <td>Indiana Jones and the Last Crusade</td>\n",
              "      <td>Action, Adventure</td>\n",
              "      <td>96.63%</td>\n",
              "    </tr>\n",
              "    <tr>\n",
              "      <th>5</th>\n",
              "      <td>The Hobbit: An Unexpected Journey</td>\n",
              "      <td>Adventure, Fantasy</td>\n",
              "      <td>96.61%</td>\n",
              "    </tr>\n",
              "    <tr>\n",
              "      <th>6</th>\n",
              "      <td>Stand by Me</td>\n",
              "      <td>Adventure, Drama</td>\n",
              "      <td>96.59%</td>\n",
              "    </tr>\n",
              "    <tr>\n",
              "      <th>7</th>\n",
              "      <td>The Ten Commandments</td>\n",
              "      <td>Adventure, Drama</td>\n",
              "      <td>96.54%</td>\n",
              "    </tr>\n",
              "    <tr>\n",
              "      <th>8</th>\n",
              "      <td>Gladiator</td>\n",
              "      <td>Action, Adventure, Drama</td>\n",
              "      <td>96.53%</td>\n",
              "    </tr>\n",
              "    <tr>\n",
              "      <th>9</th>\n",
              "      <td>Avengers: Endgame</td>\n",
              "      <td>Action, Adventure, Drama</td>\n",
              "      <td>96.5%</td>\n",
              "    </tr>\n",
              "  </tbody>\n",
              "</table>\n",
              "</div>\n",
              "      <button class=\"colab-df-convert\" onclick=\"convertToInteractive('df-b58a210f-8820-420a-9f57-e02d27c4a7e7')\"\n",
              "              title=\"Convert this dataframe to an interactive table.\"\n",
              "              style=\"display:none;\">\n",
              "        \n",
              "  <svg xmlns=\"http://www.w3.org/2000/svg\" height=\"24px\"viewBox=\"0 0 24 24\"\n",
              "       width=\"24px\">\n",
              "    <path d=\"M0 0h24v24H0V0z\" fill=\"none\"/>\n",
              "    <path d=\"M18.56 5.44l.94 2.06.94-2.06 2.06-.94-2.06-.94-.94-2.06-.94 2.06-2.06.94zm-11 1L8.5 8.5l.94-2.06 2.06-.94-2.06-.94L8.5 2.5l-.94 2.06-2.06.94zm10 10l.94 2.06.94-2.06 2.06-.94-2.06-.94-.94-2.06-.94 2.06-2.06.94z\"/><path d=\"M17.41 7.96l-1.37-1.37c-.4-.4-.92-.59-1.43-.59-.52 0-1.04.2-1.43.59L10.3 9.45l-7.72 7.72c-.78.78-.78 2.05 0 2.83L4 21.41c.39.39.9.59 1.41.59.51 0 1.02-.2 1.41-.59l7.78-7.78 2.81-2.81c.8-.78.8-2.07 0-2.86zM5.41 20L4 18.59l7.72-7.72 1.47 1.35L5.41 20z\"/>\n",
              "  </svg>\n",
              "      </button>\n",
              "      \n",
              "  <style>\n",
              "    .colab-df-container {\n",
              "      display:flex;\n",
              "      flex-wrap:wrap;\n",
              "      gap: 12px;\n",
              "    }\n",
              "\n",
              "    .colab-df-convert {\n",
              "      background-color: #E8F0FE;\n",
              "      border: none;\n",
              "      border-radius: 50%;\n",
              "      cursor: pointer;\n",
              "      display: none;\n",
              "      fill: #1967D2;\n",
              "      height: 32px;\n",
              "      padding: 0 0 0 0;\n",
              "      width: 32px;\n",
              "    }\n",
              "\n",
              "    .colab-df-convert:hover {\n",
              "      background-color: #E2EBFA;\n",
              "      box-shadow: 0px 1px 2px rgba(60, 64, 67, 0.3), 0px 1px 3px 1px rgba(60, 64, 67, 0.15);\n",
              "      fill: #174EA6;\n",
              "    }\n",
              "\n",
              "    [theme=dark] .colab-df-convert {\n",
              "      background-color: #3B4455;\n",
              "      fill: #D2E3FC;\n",
              "    }\n",
              "\n",
              "    [theme=dark] .colab-df-convert:hover {\n",
              "      background-color: #434B5C;\n",
              "      box-shadow: 0px 1px 3px 1px rgba(0, 0, 0, 0.15);\n",
              "      filter: drop-shadow(0px 1px 2px rgba(0, 0, 0, 0.3));\n",
              "      fill: #FFFFFF;\n",
              "    }\n",
              "  </style>\n",
              "\n",
              "      <script>\n",
              "        const buttonEl =\n",
              "          document.querySelector('#df-b58a210f-8820-420a-9f57-e02d27c4a7e7 button.colab-df-convert');\n",
              "        buttonEl.style.display =\n",
              "          google.colab.kernel.accessAllowed ? 'block' : 'none';\n",
              "\n",
              "        async function convertToInteractive(key) {\n",
              "          const element = document.querySelector('#df-b58a210f-8820-420a-9f57-e02d27c4a7e7');\n",
              "          const dataTable =\n",
              "            await google.colab.kernel.invokeFunction('convertToInteractive',\n",
              "                                                     [key], {});\n",
              "          if (!dataTable) return;\n",
              "\n",
              "          const docLinkHtml = 'Like what you see? Visit the ' +\n",
              "            '<a target=\"_blank\" href=https://colab.research.google.com/notebooks/data_table.ipynb>data table notebook</a>'\n",
              "            + ' to learn more about interactive tables.';\n",
              "          element.innerHTML = '';\n",
              "          dataTable['output_type'] = 'display_data';\n",
              "          await google.colab.output.renderOutput(dataTable, element);\n",
              "          const docLink = document.createElement('div');\n",
              "          docLink.innerHTML = docLinkHtml;\n",
              "          element.appendChild(docLink);\n",
              "        }\n",
              "      </script>\n",
              "    </div>\n",
              "  </div>\n",
              "  "
            ]
          },
          "metadata": {},
          "execution_count": 232
        }
      ]
    },
    {
      "cell_type": "markdown",
      "source": [
        "### Cosine Similarity"
      ],
      "metadata": {
        "id": "F018faC6f5gf"
      }
    },
    {
      "cell_type": "code",
      "source": [
        "# Menghitung cosine similarity dari dataframe\n",
        "cosine_sim = cosine_similarity(df)\n",
        "\n",
        "# Menyimpan hasil perhitungan pada dataframe\n",
        "cosine_sim_df = pd.DataFrame(cosine_sim, index=df_series_title['Series_Title'], columns=df_series_title['Series_Title'])\n",
        "# cosine_sim_df.head()"
      ],
      "metadata": {
        "id": "tscAOOmbfDoW"
      },
      "execution_count": 233,
      "outputs": []
    },
    {
      "cell_type": "code",
      "source": [
        "# Recommender Cosine Similarity\n",
        "def getRecommenderMovies_cosine(movies:str, recommend_movies:int=10):\n",
        "  print(f'Apabila pengguna menyukai film {movies[0]}\\n{recommend_movies} film berikut dapat direkomendasikan pada pengguna :')\n",
        "\n",
        "  # Mencari nilai unik pada aplikasi yang disukai pengguna di baris dataframe cosine sim\n",
        "  # Nilai unik (arr) dikembalikan dalam bentuk yang berurutan dari kecil ke besar \n",
        "  arr, ind = np.unique(cosine_sim_df.loc[movies[0]], return_index=True)\n",
        "\n",
        "  # Memasukkan film yang sama pada list similar_movies\n",
        "  similar_movies, genre = [], []\n",
        "  for index in ind[-(recommend_movies+1):-1]:\n",
        "    similar_movies.append(df_series_title.loc[index][0])\n",
        "    genre.append(df_series_title.loc[index][1])\n",
        "\n",
        "  # Memasukkan skor cosine dari aplikasi yang serupa mulai dari index kedua terakhir sampai index n terakhir\n",
        "  cosine_score = []\n",
        "  for score in arr[-(recommend_movies+1):-1]:\n",
        "    cosine_score.append(score)\n",
        "  \n",
        "  # Menampilkan remokendasi pada pengguna\n",
        "  return pd.DataFrame(data = {\"Nama Film\" : similar_movies, \"Genre\" : genre, 'Tingkat Kesamaan' : cosine_score}).sort_values(by='Tingkat Kesamaan',ascending=False)"
      ],
      "metadata": {
        "id": "8cgPZsiQhUxk"
      },
      "execution_count": 244,
      "outputs": []
    },
    {
      "cell_type": "code",
      "source": [
        "getRecommenderMovies_cosine(df_series_title.loc[10])"
      ],
      "metadata": {
        "id": "-5rd3Ri8iQry",
        "colab": {
          "base_uri": "https://localhost:8080/",
          "height": 398
        },
        "outputId": "94dec318-cc9b-4073-b431-2f0e1dfbd1b0"
      },
      "execution_count": 245,
      "outputs": [
        {
          "output_type": "stream",
          "name": "stdout",
          "text": [
            "Apabila pengguna menyukai film The Lord of the Rings: The Fellowship of the Ring\n",
            "10 film berikut dapat direkomendasikan pada pengguna :\n"
          ]
        },
        {
          "output_type": "execute_result",
          "data": {
            "text/plain": [
              "                                           Nama Film  \\\n",
              "9      The Lord of the Rings: The Return of the King   \n",
              "8              The Lord of the Rings: The Two Towers   \n",
              "7                               Shichinin no samurai   \n",
              "6                                          Gladiator   \n",
              "5                                  Avengers: Endgame   \n",
              "4                  The Hobbit: An Unexpected Journey   \n",
              "3                 Indiana Jones and the Last Crusade   \n",
              "2                                      The Lion King   \n",
              "1                  Spider-Man: Into the Spider-Verse   \n",
              "0  Pirates of the Caribbean: The Curse of the Bla...   \n",
              "\n",
              "                          Genre  Tingkat Kesamaan  \n",
              "9      Action, Adventure, Drama          0.726373  \n",
              "8      Action, Adventure, Drama          0.721922  \n",
              "7      Action, Adventure, Drama          0.489566  \n",
              "6      Action, Adventure, Drama          0.433686  \n",
              "5      Action, Adventure, Drama          0.430060  \n",
              "4            Adventure, Fantasy          0.427361  \n",
              "3             Action, Adventure          0.425161  \n",
              "2   Animation, Adventure, Drama          0.414601  \n",
              "1  Animation, Action, Adventure          0.412155  \n",
              "0    Action, Adventure, Fantasy          0.412119  "
            ],
            "text/html": [
              "\n",
              "  <div id=\"df-b1d8df19-9145-4546-a1eb-e047482466a0\">\n",
              "    <div class=\"colab-df-container\">\n",
              "      <div>\n",
              "<style scoped>\n",
              "    .dataframe tbody tr th:only-of-type {\n",
              "        vertical-align: middle;\n",
              "    }\n",
              "\n",
              "    .dataframe tbody tr th {\n",
              "        vertical-align: top;\n",
              "    }\n",
              "\n",
              "    .dataframe thead th {\n",
              "        text-align: right;\n",
              "    }\n",
              "</style>\n",
              "<table border=\"1\" class=\"dataframe\">\n",
              "  <thead>\n",
              "    <tr style=\"text-align: right;\">\n",
              "      <th></th>\n",
              "      <th>Nama Film</th>\n",
              "      <th>Genre</th>\n",
              "      <th>Tingkat Kesamaan</th>\n",
              "    </tr>\n",
              "  </thead>\n",
              "  <tbody>\n",
              "    <tr>\n",
              "      <th>9</th>\n",
              "      <td>The Lord of the Rings: The Return of the King</td>\n",
              "      <td>Action, Adventure, Drama</td>\n",
              "      <td>0.726373</td>\n",
              "    </tr>\n",
              "    <tr>\n",
              "      <th>8</th>\n",
              "      <td>The Lord of the Rings: The Two Towers</td>\n",
              "      <td>Action, Adventure, Drama</td>\n",
              "      <td>0.721922</td>\n",
              "    </tr>\n",
              "    <tr>\n",
              "      <th>7</th>\n",
              "      <td>Shichinin no samurai</td>\n",
              "      <td>Action, Adventure, Drama</td>\n",
              "      <td>0.489566</td>\n",
              "    </tr>\n",
              "    <tr>\n",
              "      <th>6</th>\n",
              "      <td>Gladiator</td>\n",
              "      <td>Action, Adventure, Drama</td>\n",
              "      <td>0.433686</td>\n",
              "    </tr>\n",
              "    <tr>\n",
              "      <th>5</th>\n",
              "      <td>Avengers: Endgame</td>\n",
              "      <td>Action, Adventure, Drama</td>\n",
              "      <td>0.430060</td>\n",
              "    </tr>\n",
              "    <tr>\n",
              "      <th>4</th>\n",
              "      <td>The Hobbit: An Unexpected Journey</td>\n",
              "      <td>Adventure, Fantasy</td>\n",
              "      <td>0.427361</td>\n",
              "    </tr>\n",
              "    <tr>\n",
              "      <th>3</th>\n",
              "      <td>Indiana Jones and the Last Crusade</td>\n",
              "      <td>Action, Adventure</td>\n",
              "      <td>0.425161</td>\n",
              "    </tr>\n",
              "    <tr>\n",
              "      <th>2</th>\n",
              "      <td>The Lion King</td>\n",
              "      <td>Animation, Adventure, Drama</td>\n",
              "      <td>0.414601</td>\n",
              "    </tr>\n",
              "    <tr>\n",
              "      <th>1</th>\n",
              "      <td>Spider-Man: Into the Spider-Verse</td>\n",
              "      <td>Animation, Action, Adventure</td>\n",
              "      <td>0.412155</td>\n",
              "    </tr>\n",
              "    <tr>\n",
              "      <th>0</th>\n",
              "      <td>Pirates of the Caribbean: The Curse of the Bla...</td>\n",
              "      <td>Action, Adventure, Fantasy</td>\n",
              "      <td>0.412119</td>\n",
              "    </tr>\n",
              "  </tbody>\n",
              "</table>\n",
              "</div>\n",
              "      <button class=\"colab-df-convert\" onclick=\"convertToInteractive('df-b1d8df19-9145-4546-a1eb-e047482466a0')\"\n",
              "              title=\"Convert this dataframe to an interactive table.\"\n",
              "              style=\"display:none;\">\n",
              "        \n",
              "  <svg xmlns=\"http://www.w3.org/2000/svg\" height=\"24px\"viewBox=\"0 0 24 24\"\n",
              "       width=\"24px\">\n",
              "    <path d=\"M0 0h24v24H0V0z\" fill=\"none\"/>\n",
              "    <path d=\"M18.56 5.44l.94 2.06.94-2.06 2.06-.94-2.06-.94-.94-2.06-.94 2.06-2.06.94zm-11 1L8.5 8.5l.94-2.06 2.06-.94-2.06-.94L8.5 2.5l-.94 2.06-2.06.94zm10 10l.94 2.06.94-2.06 2.06-.94-2.06-.94-.94-2.06-.94 2.06-2.06.94z\"/><path d=\"M17.41 7.96l-1.37-1.37c-.4-.4-.92-.59-1.43-.59-.52 0-1.04.2-1.43.59L10.3 9.45l-7.72 7.72c-.78.78-.78 2.05 0 2.83L4 21.41c.39.39.9.59 1.41.59.51 0 1.02-.2 1.41-.59l7.78-7.78 2.81-2.81c.8-.78.8-2.07 0-2.86zM5.41 20L4 18.59l7.72-7.72 1.47 1.35L5.41 20z\"/>\n",
              "  </svg>\n",
              "      </button>\n",
              "      \n",
              "  <style>\n",
              "    .colab-df-container {\n",
              "      display:flex;\n",
              "      flex-wrap:wrap;\n",
              "      gap: 12px;\n",
              "    }\n",
              "\n",
              "    .colab-df-convert {\n",
              "      background-color: #E8F0FE;\n",
              "      border: none;\n",
              "      border-radius: 50%;\n",
              "      cursor: pointer;\n",
              "      display: none;\n",
              "      fill: #1967D2;\n",
              "      height: 32px;\n",
              "      padding: 0 0 0 0;\n",
              "      width: 32px;\n",
              "    }\n",
              "\n",
              "    .colab-df-convert:hover {\n",
              "      background-color: #E2EBFA;\n",
              "      box-shadow: 0px 1px 2px rgba(60, 64, 67, 0.3), 0px 1px 3px 1px rgba(60, 64, 67, 0.15);\n",
              "      fill: #174EA6;\n",
              "    }\n",
              "\n",
              "    [theme=dark] .colab-df-convert {\n",
              "      background-color: #3B4455;\n",
              "      fill: #D2E3FC;\n",
              "    }\n",
              "\n",
              "    [theme=dark] .colab-df-convert:hover {\n",
              "      background-color: #434B5C;\n",
              "      box-shadow: 0px 1px 3px 1px rgba(0, 0, 0, 0.15);\n",
              "      filter: drop-shadow(0px 1px 2px rgba(0, 0, 0, 0.3));\n",
              "      fill: #FFFFFF;\n",
              "    }\n",
              "  </style>\n",
              "\n",
              "      <script>\n",
              "        const buttonEl =\n",
              "          document.querySelector('#df-b1d8df19-9145-4546-a1eb-e047482466a0 button.colab-df-convert');\n",
              "        buttonEl.style.display =\n",
              "          google.colab.kernel.accessAllowed ? 'block' : 'none';\n",
              "\n",
              "        async function convertToInteractive(key) {\n",
              "          const element = document.querySelector('#df-b1d8df19-9145-4546-a1eb-e047482466a0');\n",
              "          const dataTable =\n",
              "            await google.colab.kernel.invokeFunction('convertToInteractive',\n",
              "                                                     [key], {});\n",
              "          if (!dataTable) return;\n",
              "\n",
              "          const docLinkHtml = 'Like what you see? Visit the ' +\n",
              "            '<a target=\"_blank\" href=https://colab.research.google.com/notebooks/data_table.ipynb>data table notebook</a>'\n",
              "            + ' to learn more about interactive tables.';\n",
              "          element.innerHTML = '';\n",
              "          dataTable['output_type'] = 'display_data';\n",
              "          await google.colab.output.renderOutput(dataTable, element);\n",
              "          const docLink = document.createElement('div');\n",
              "          docLink.innerHTML = docLinkHtml;\n",
              "          element.appendChild(docLink);\n",
              "        }\n",
              "      </script>\n",
              "    </div>\n",
              "  </div>\n",
              "  "
            ]
          },
          "metadata": {},
          "execution_count": 245
        }
      ]
    },
    {
      "cell_type": "markdown",
      "source": [
        "## Evaluasi"
      ],
      "metadata": {
        "id": "zRF4QB6qvj-Y"
      }
    },
    {
      "cell_type": "markdown",
      "source": [
        "### Precission\n",
        "\n",
        "Presisi adalah kemampuan pengklasifikasi untuk tidak melabeli instance positif yang sebenarnya negatif. Untuk setiap kelas itu didefinisikan sebagai rasio positif benar dengan jumlah positif benar dan salah. berikut merupakan formula dari precission.\n",
        "  ```\n",
        "  TP – True Positives\n",
        "  FP – False Positives\n",
        "\n",
        "  Precision = TP/(TP + FP)\n",
        "  ```"
      ],
      "metadata": {
        "id": "MA0M_sj6V0L8"
      }
    },
    {
      "cell_type": "markdown",
      "source": [
        "#### KNN\n",
        "Precision pada hasil pendekatan KNN didapatkan nilai 90%. dikarenakan hasil prediksi yang memiliki genre serupa berjumlah 9 dan 1 rekomendasi memiliki genre Fantasy"
      ],
      "metadata": {
        "id": "4OllY5ZbWMDv"
      }
    },
    {
      "cell_type": "markdown",
      "source": [
        "#### Cosine Similarity\n",
        "Precision pada hasil pendekatan Cosine Similarity didapatkan nilai 70%. dikarenakan hasil prediksi yang memiliki genre serupa berjumlah 7 dan 3 rekomendasi memiliki genre Fantasy dan Animation"
      ],
      "metadata": {
        "id": "vrhMbSqKWRqP"
      }
    },
    {
      "cell_type": "markdown",
      "source": [
        "### Davies Bouldin"
      ],
      "metadata": {
        "id": "oAHHrSvYvxc_"
      }
    },
    {
      "cell_type": "code",
      "source": [
        "davies_bouldin_score(df, df_series_title['Series_Title'])"
      ],
      "metadata": {
        "colab": {
          "base_uri": "https://localhost:8080/"
        },
        "id": "nCY8uTpToXna",
        "outputId": "e5c983ee-07a7-4053-9af8-5df5c3dfa9ea"
      },
      "execution_count": 252,
      "outputs": [
        {
          "output_type": "execute_result",
          "data": {
            "text/plain": [
              "0.548381867316622"
            ]
          },
          "metadata": {},
          "execution_count": 252
        }
      ]
    },
    {
      "cell_type": "markdown",
      "source": [
        "Davies Bouldin adalah skema evaluasi internal, di mana validasi seberapa baik pengelompokan telah dilakukan dilakukan dengan menggunakan jumlah dan fitur yang melekat pada dataset. Davies-Bouldin mengukur rasio antara jarak dalam cluster dan antara jarak cluster dan menghitung rata-rata keseluruhan cluster. Oleh karena itu relatif sederhana, dibatasi – 0 hingga 1, skor yang lebih rendah lebih baik."
      ],
      "metadata": {
        "id": "JsW_o26CGBs5"
      }
    },
    {
      "cell_type": "markdown",
      "source": [
        "### Calinski Harabasz"
      ],
      "metadata": {
        "id": "exwrOV7lvu2_"
      }
    },
    {
      "cell_type": "code",
      "source": [
        "calinski_harabasz_score(df, df_series_title['Series_Title'])"
      ],
      "metadata": {
        "colab": {
          "base_uri": "https://localhost:8080/"
        },
        "id": "4HqJJwBpiW3r",
        "outputId": "8f01a1a8-3515-4d3f-dcf7-a6f901f253bc"
      },
      "execution_count": 253,
      "outputs": [
        {
          "output_type": "execute_result",
          "data": {
            "text/plain": [
              "1.1025731456249224"
            ]
          },
          "metadata": {},
          "execution_count": 253
        }
      ]
    },
    {
      "cell_type": "markdown",
      "source": [
        "Calinski-Harabasz membandingkan varians antar-cluster dengan varians dalam setiap cluster. Semakin tinggi skor semakin baik pemisahannya."
      ],
      "metadata": {
        "id": "x2H3K2d4HjYD"
      }
    },
    {
      "cell_type": "code",
      "source": [
        ""
      ],
      "metadata": {
        "id": "ueMbn_RUFDuX"
      },
      "execution_count": null,
      "outputs": []
    }
  ]
}